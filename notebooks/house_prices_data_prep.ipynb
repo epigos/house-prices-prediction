{
  "cells": [
    {
      "cell_type": "markdown",
      "metadata": {
        "id": "view-in-github",
        "colab_type": "text"
      },
      "source": [
        "<a href=\"https://colab.research.google.com/github/epigos/house-prices-prediction/blob/main/house_prices_data_prep.ipynb\" target=\"_parent\"><img src=\"https://colab.research.google.com/assets/colab-badge.svg\" alt=\"Open In Colab\"/></a>"
      ]
    },
    {
      "cell_type": "code",
      "execution_count": 13,
      "metadata": {
        "id": "fTfhPjVbeEhZ"
      },
      "outputs": [],
      "source": [
        "!pip install -q -U googlemaps"
      ]
    },
    {
      "cell_type": "code",
      "execution_count": 14,
      "metadata": {
        "id": "PfnwXipHeeXZ"
      },
      "outputs": [],
      "source": [
        "# some builtin imports\n",
        "import re\n",
        "import warnings\n",
        "from collections import Counter\n",
        "import time\n",
        "from datetime import datetime\n",
        "warnings.filterwarnings('ignore')\n",
        "\n",
        "import pandas as pd\n",
        "import seaborn as sns\n",
        "import numpy as np\n",
        "import matplotlib.pyplot as plt\n",
        "import json\n",
        "from pathlib import Path\n",
        "\n",
        "import matplotlib.pyplot as plt\n",
        "import seaborn as sns\n",
        "import matplotlib as mpl\n",
        "# import stats modules\n",
        "import scipy.stats as stats\n",
        "import statsmodels.api as sm\n",
        "import statsmodels.stats.api as sms\n",
        "\n",
        "# sklearn models\n",
        "from sklearn.preprocessing import StandardScaler"
      ]
    },
    {
      "cell_type": "code",
      "execution_count": 55,
      "metadata": {
        "id": "IPmwGH-feljr"
      },
      "outputs": [],
      "source": [
        "df = pd.read_json(\"house_listings.json\")"
      ]
    },
    {
      "cell_type": "code",
      "execution_count": 56,
      "metadata": {
        "colab": {
          "base_uri": "https://localhost:8080/"
        },
        "id": "B0Bi1dbLem_N",
        "outputId": "17bebeb2-7608-4883-8069-d02ad8c96ca3"
      },
      "outputs": [
        {
          "output_type": "stream",
          "name": "stdout",
          "text": [
            "<class 'pandas.core.frame.DataFrame'>\n",
            "RangeIndex: 33659 entries, 0 to 33658\n",
            "Data columns (total 28 columns):\n",
            " #   Column          Non-Null Count  Dtype         \n",
            "---  ------          --------------  -----         \n",
            " 0   source          33659 non-null  object        \n",
            " 1   url             33659 non-null  object        \n",
            " 2   listing_type    33659 non-null  object        \n",
            " 3   crawled_date    33659 non-null  object        \n",
            " 4   timestamp       33659 non-null  datetime64[ns]\n",
            " 5   name            33659 non-null  object        \n",
            " 6   price           33659 non-null  int64         \n",
            " 7   currency        33659 non-null  object        \n",
            " 8   location        33659 non-null  object        \n",
            " 9   category        33609 non-null  object        \n",
            " 10  bedrooms        33612 non-null  float64       \n",
            " 11  bathrooms       33612 non-null  float64       \n",
            " 12  toilets         17069 non-null  float64       \n",
            " 13  parking_space   33659 non-null  bool          \n",
            " 14  address         33556 non-null  object        \n",
            " 15  estate_name     26933 non-null  object        \n",
            " 16  condition       33309 non-null  object        \n",
            " 17  is_furnished    33612 non-null  object        \n",
            " 18  floor_area      32982 non-null  object        \n",
            " 19  agent           33659 non-null  object        \n",
            " 20  image_urls      33659 non-null  object        \n",
            " 21  amenities       28426 non-null  object        \n",
            " 22  pets            1748 non-null   object        \n",
            " 23  agency_fee      9683 non-null   float64       \n",
            " 24  caution_fee     3588 non-null   float64       \n",
            " 25  service_charge  474 non-null    float64       \n",
            " 26  agent_fee       3893 non-null   float64       \n",
            " 27  legal_fee       196 non-null    float64       \n",
            "dtypes: bool(1), datetime64[ns](1), float64(8), int64(1), object(17)\n",
            "memory usage: 7.0+ MB\n"
          ]
        }
      ],
      "source": [
        "df.info()"
      ]
    },
    {
      "cell_type": "code",
      "execution_count": 57,
      "metadata": {
        "colab": {
          "base_uri": "https://localhost:8080/",
          "height": 724
        },
        "id": "-Nrz-Yj7eoKP",
        "outputId": "2a721eb9-9c90-4230-a6e4-c72674b5c86c"
      },
      "outputs": [
        {
          "output_type": "execute_result",
          "data": {
            "text/plain": [
              "        source                                                url  \\\n",
              "0  tonaton.com  https://tonaton.com/a-MfYFNdCgE7EwZFLq3ewrBkKd...   \n",
              "1  tonaton.com  https://tonaton.com/a-MfYFNdCgCTytOcmvZIh0Kzrj...   \n",
              "2  tonaton.com  https://tonaton.com/a-MfYFNdCgwtb8Itol9odpMPvC...   \n",
              "3  tonaton.com  https://tonaton.com/a-MfYFNdCgPjnzPYwNFEv5JrGy...   \n",
              "4  tonaton.com  https://tonaton.com/a-MfYFNdCgpsuL2ZA4TizCMNWs...   \n",
              "\n",
              "  listing_type crawled_date               timestamp  \\\n",
              "0      rentals   2024/11/15 2024-11-15 21:28:58.400   \n",
              "1      rentals   2024/11/15 2024-11-15 21:28:58.671   \n",
              "2      rentals   2024/11/15 2024-11-15 21:28:58.985   \n",
              "3      rentals   2024/11/15 2024-11-15 21:28:59.285   \n",
              "4      rentals   2024/11/15 2024-11-15 21:28:59.480   \n",
              "\n",
              "                                                name  price currency  \\\n",
              "0  2bdrm Apartment in Tech Apemso Knust, Kumasi M...   1500      GH₵   \n",
              "1  2bdrm Apartment in Charclem Ventures, East Leg...   9196      GH₵   \n",
              "2             2bdrm Apartment in , Dzorwulu for rent   7500      GH₵   \n",
              "3           4bdrm House in Lakeside Estate, for Rent  11200      GH₵   \n",
              "4  2bdrm Apartment in Zoomlion, School Junction f...   3000      GH₵   \n",
              "\n",
              "                                            location   category  ...  \\\n",
              "0                       Ashanti, Kumasi Metropolitan  Apartment  ...   \n",
              "1                          Greater Accra, East Legon  Apartment  ...   \n",
              "2                            Greater Accra, Dzorwulu  Apartment  ...   \n",
              "3     Greater Accra, Ashaley Botwe, Lake Side Estate      House  ...   \n",
              "4  Greater Accra, Ashaley Botwe, Ashaley Botwe Sc...  Apartment  ...   \n",
              "\n",
              "   floor_area                agent  \\\n",
              "0     158 sqm  Harvard Estate Ltd.   \n",
              "1     145 sqm    Charclem Ventures   \n",
              "2     100 sqm    Unique Key Agency   \n",
              "3     100 sqm       MafLuck Realty   \n",
              "4     100 sqm          Domla Group   \n",
              "\n",
              "                                          image_urls  \\\n",
              "0  [https://tonaton.com/r/cGljdHVyZXMtZ2hhbmEuaml...   \n",
              "1  [https://tonaton.com/r/cGljdHVyZXMtZ2hhbmEuaml...   \n",
              "2  [https://tonaton.com/r/cGljdHVyZXMtZ2hhbmEuaml...   \n",
              "3  [https://tonaton.com/r/cGljdHVyZXMtZ2hhbmEuaml...   \n",
              "4  [https://tonaton.com/r/cGljdHVyZXMtZ2hhbmEuaml...   \n",
              "\n",
              "                                           amenities          pets agency_fee  \\\n",
              "0                                               None          None        NaN   \n",
              "1  [24-hour Electricity, Air Conditioning, Balcon...          None        NaN   \n",
              "2  [24-hour Electricity, Air Conditioning, Apartm...          None        NaN   \n",
              "3  [Tiled Floor, Chandelier, Dining Area, Balcony...  Pets Allowed        NaN   \n",
              "4                                               None          None        NaN   \n",
              "\n",
              "  caution_fee service_charge agent_fee legal_fee  \n",
              "0         NaN            NaN       NaN       NaN  \n",
              "1         NaN            NaN       NaN       NaN  \n",
              "2         NaN            NaN       NaN       NaN  \n",
              "3         NaN            NaN       NaN       NaN  \n",
              "4         NaN            NaN       NaN       NaN  \n",
              "\n",
              "[5 rows x 28 columns]"
            ],
            "text/html": [
              "\n",
              "  <div id=\"df-0ef4bde0-a90d-4af0-b515-18a0e66d402e\" class=\"colab-df-container\">\n",
              "    <div>\n",
              "<style scoped>\n",
              "    .dataframe tbody tr th:only-of-type {\n",
              "        vertical-align: middle;\n",
              "    }\n",
              "\n",
              "    .dataframe tbody tr th {\n",
              "        vertical-align: top;\n",
              "    }\n",
              "\n",
              "    .dataframe thead th {\n",
              "        text-align: right;\n",
              "    }\n",
              "</style>\n",
              "<table border=\"1\" class=\"dataframe\">\n",
              "  <thead>\n",
              "    <tr style=\"text-align: right;\">\n",
              "      <th></th>\n",
              "      <th>source</th>\n",
              "      <th>url</th>\n",
              "      <th>listing_type</th>\n",
              "      <th>crawled_date</th>\n",
              "      <th>timestamp</th>\n",
              "      <th>name</th>\n",
              "      <th>price</th>\n",
              "      <th>currency</th>\n",
              "      <th>location</th>\n",
              "      <th>category</th>\n",
              "      <th>...</th>\n",
              "      <th>floor_area</th>\n",
              "      <th>agent</th>\n",
              "      <th>image_urls</th>\n",
              "      <th>amenities</th>\n",
              "      <th>pets</th>\n",
              "      <th>agency_fee</th>\n",
              "      <th>caution_fee</th>\n",
              "      <th>service_charge</th>\n",
              "      <th>agent_fee</th>\n",
              "      <th>legal_fee</th>\n",
              "    </tr>\n",
              "  </thead>\n",
              "  <tbody>\n",
              "    <tr>\n",
              "      <th>0</th>\n",
              "      <td>tonaton.com</td>\n",
              "      <td>https://tonaton.com/a-MfYFNdCgE7EwZFLq3ewrBkKd...</td>\n",
              "      <td>rentals</td>\n",
              "      <td>2024/11/15</td>\n",
              "      <td>2024-11-15 21:28:58.400</td>\n",
              "      <td>2bdrm Apartment in Tech Apemso Knust, Kumasi M...</td>\n",
              "      <td>1500</td>\n",
              "      <td>GH₵</td>\n",
              "      <td>Ashanti, Kumasi Metropolitan</td>\n",
              "      <td>Apartment</td>\n",
              "      <td>...</td>\n",
              "      <td>158 sqm</td>\n",
              "      <td>Harvard Estate Ltd.</td>\n",
              "      <td>[https://tonaton.com/r/cGljdHVyZXMtZ2hhbmEuaml...</td>\n",
              "      <td>None</td>\n",
              "      <td>None</td>\n",
              "      <td>NaN</td>\n",
              "      <td>NaN</td>\n",
              "      <td>NaN</td>\n",
              "      <td>NaN</td>\n",
              "      <td>NaN</td>\n",
              "    </tr>\n",
              "    <tr>\n",
              "      <th>1</th>\n",
              "      <td>tonaton.com</td>\n",
              "      <td>https://tonaton.com/a-MfYFNdCgCTytOcmvZIh0Kzrj...</td>\n",
              "      <td>rentals</td>\n",
              "      <td>2024/11/15</td>\n",
              "      <td>2024-11-15 21:28:58.671</td>\n",
              "      <td>2bdrm Apartment in Charclem Ventures, East Leg...</td>\n",
              "      <td>9196</td>\n",
              "      <td>GH₵</td>\n",
              "      <td>Greater Accra, East Legon</td>\n",
              "      <td>Apartment</td>\n",
              "      <td>...</td>\n",
              "      <td>145 sqm</td>\n",
              "      <td>Charclem Ventures</td>\n",
              "      <td>[https://tonaton.com/r/cGljdHVyZXMtZ2hhbmEuaml...</td>\n",
              "      <td>[24-hour Electricity, Air Conditioning, Balcon...</td>\n",
              "      <td>None</td>\n",
              "      <td>NaN</td>\n",
              "      <td>NaN</td>\n",
              "      <td>NaN</td>\n",
              "      <td>NaN</td>\n",
              "      <td>NaN</td>\n",
              "    </tr>\n",
              "    <tr>\n",
              "      <th>2</th>\n",
              "      <td>tonaton.com</td>\n",
              "      <td>https://tonaton.com/a-MfYFNdCgwtb8Itol9odpMPvC...</td>\n",
              "      <td>rentals</td>\n",
              "      <td>2024/11/15</td>\n",
              "      <td>2024-11-15 21:28:58.985</td>\n",
              "      <td>2bdrm Apartment in , Dzorwulu for rent</td>\n",
              "      <td>7500</td>\n",
              "      <td>GH₵</td>\n",
              "      <td>Greater Accra, Dzorwulu</td>\n",
              "      <td>Apartment</td>\n",
              "      <td>...</td>\n",
              "      <td>100 sqm</td>\n",
              "      <td>Unique Key Agency</td>\n",
              "      <td>[https://tonaton.com/r/cGljdHVyZXMtZ2hhbmEuaml...</td>\n",
              "      <td>[24-hour Electricity, Air Conditioning, Apartm...</td>\n",
              "      <td>None</td>\n",
              "      <td>NaN</td>\n",
              "      <td>NaN</td>\n",
              "      <td>NaN</td>\n",
              "      <td>NaN</td>\n",
              "      <td>NaN</td>\n",
              "    </tr>\n",
              "    <tr>\n",
              "      <th>3</th>\n",
              "      <td>tonaton.com</td>\n",
              "      <td>https://tonaton.com/a-MfYFNdCgPjnzPYwNFEv5JrGy...</td>\n",
              "      <td>rentals</td>\n",
              "      <td>2024/11/15</td>\n",
              "      <td>2024-11-15 21:28:59.285</td>\n",
              "      <td>4bdrm House in Lakeside Estate, for Rent</td>\n",
              "      <td>11200</td>\n",
              "      <td>GH₵</td>\n",
              "      <td>Greater Accra, Ashaley Botwe, Lake Side Estate</td>\n",
              "      <td>House</td>\n",
              "      <td>...</td>\n",
              "      <td>100 sqm</td>\n",
              "      <td>MafLuck Realty</td>\n",
              "      <td>[https://tonaton.com/r/cGljdHVyZXMtZ2hhbmEuaml...</td>\n",
              "      <td>[Tiled Floor, Chandelier, Dining Area, Balcony...</td>\n",
              "      <td>Pets Allowed</td>\n",
              "      <td>NaN</td>\n",
              "      <td>NaN</td>\n",
              "      <td>NaN</td>\n",
              "      <td>NaN</td>\n",
              "      <td>NaN</td>\n",
              "    </tr>\n",
              "    <tr>\n",
              "      <th>4</th>\n",
              "      <td>tonaton.com</td>\n",
              "      <td>https://tonaton.com/a-MfYFNdCgpsuL2ZA4TizCMNWs...</td>\n",
              "      <td>rentals</td>\n",
              "      <td>2024/11/15</td>\n",
              "      <td>2024-11-15 21:28:59.480</td>\n",
              "      <td>2bdrm Apartment in Zoomlion, School Junction f...</td>\n",
              "      <td>3000</td>\n",
              "      <td>GH₵</td>\n",
              "      <td>Greater Accra, Ashaley Botwe, Ashaley Botwe Sc...</td>\n",
              "      <td>Apartment</td>\n",
              "      <td>...</td>\n",
              "      <td>100 sqm</td>\n",
              "      <td>Domla Group</td>\n",
              "      <td>[https://tonaton.com/r/cGljdHVyZXMtZ2hhbmEuaml...</td>\n",
              "      <td>None</td>\n",
              "      <td>None</td>\n",
              "      <td>NaN</td>\n",
              "      <td>NaN</td>\n",
              "      <td>NaN</td>\n",
              "      <td>NaN</td>\n",
              "      <td>NaN</td>\n",
              "    </tr>\n",
              "  </tbody>\n",
              "</table>\n",
              "<p>5 rows × 28 columns</p>\n",
              "</div>\n",
              "    <div class=\"colab-df-buttons\">\n",
              "\n",
              "  <div class=\"colab-df-container\">\n",
              "    <button class=\"colab-df-convert\" onclick=\"convertToInteractive('df-0ef4bde0-a90d-4af0-b515-18a0e66d402e')\"\n",
              "            title=\"Convert this dataframe to an interactive table.\"\n",
              "            style=\"display:none;\">\n",
              "\n",
              "  <svg xmlns=\"http://www.w3.org/2000/svg\" height=\"24px\" viewBox=\"0 -960 960 960\">\n",
              "    <path d=\"M120-120v-720h720v720H120Zm60-500h600v-160H180v160Zm220 220h160v-160H400v160Zm0 220h160v-160H400v160ZM180-400h160v-160H180v160Zm440 0h160v-160H620v160ZM180-180h160v-160H180v160Zm440 0h160v-160H620v160Z\"/>\n",
              "  </svg>\n",
              "    </button>\n",
              "\n",
              "  <style>\n",
              "    .colab-df-container {\n",
              "      display:flex;\n",
              "      gap: 12px;\n",
              "    }\n",
              "\n",
              "    .colab-df-convert {\n",
              "      background-color: #E8F0FE;\n",
              "      border: none;\n",
              "      border-radius: 50%;\n",
              "      cursor: pointer;\n",
              "      display: none;\n",
              "      fill: #1967D2;\n",
              "      height: 32px;\n",
              "      padding: 0 0 0 0;\n",
              "      width: 32px;\n",
              "    }\n",
              "\n",
              "    .colab-df-convert:hover {\n",
              "      background-color: #E2EBFA;\n",
              "      box-shadow: 0px 1px 2px rgba(60, 64, 67, 0.3), 0px 1px 3px 1px rgba(60, 64, 67, 0.15);\n",
              "      fill: #174EA6;\n",
              "    }\n",
              "\n",
              "    .colab-df-buttons div {\n",
              "      margin-bottom: 4px;\n",
              "    }\n",
              "\n",
              "    [theme=dark] .colab-df-convert {\n",
              "      background-color: #3B4455;\n",
              "      fill: #D2E3FC;\n",
              "    }\n",
              "\n",
              "    [theme=dark] .colab-df-convert:hover {\n",
              "      background-color: #434B5C;\n",
              "      box-shadow: 0px 1px 3px 1px rgba(0, 0, 0, 0.15);\n",
              "      filter: drop-shadow(0px 1px 2px rgba(0, 0, 0, 0.3));\n",
              "      fill: #FFFFFF;\n",
              "    }\n",
              "  </style>\n",
              "\n",
              "    <script>\n",
              "      const buttonEl =\n",
              "        document.querySelector('#df-0ef4bde0-a90d-4af0-b515-18a0e66d402e button.colab-df-convert');\n",
              "      buttonEl.style.display =\n",
              "        google.colab.kernel.accessAllowed ? 'block' : 'none';\n",
              "\n",
              "      async function convertToInteractive(key) {\n",
              "        const element = document.querySelector('#df-0ef4bde0-a90d-4af0-b515-18a0e66d402e');\n",
              "        const dataTable =\n",
              "          await google.colab.kernel.invokeFunction('convertToInteractive',\n",
              "                                                    [key], {});\n",
              "        if (!dataTable) return;\n",
              "\n",
              "        const docLinkHtml = 'Like what you see? Visit the ' +\n",
              "          '<a target=\"_blank\" href=https://colab.research.google.com/notebooks/data_table.ipynb>data table notebook</a>'\n",
              "          + ' to learn more about interactive tables.';\n",
              "        element.innerHTML = '';\n",
              "        dataTable['output_type'] = 'display_data';\n",
              "        await google.colab.output.renderOutput(dataTable, element);\n",
              "        const docLink = document.createElement('div');\n",
              "        docLink.innerHTML = docLinkHtml;\n",
              "        element.appendChild(docLink);\n",
              "      }\n",
              "    </script>\n",
              "  </div>\n",
              "\n",
              "\n",
              "<div id=\"df-e6b52a18-0981-4c1c-b5ce-c17e2c0bb9d2\">\n",
              "  <button class=\"colab-df-quickchart\" onclick=\"quickchart('df-e6b52a18-0981-4c1c-b5ce-c17e2c0bb9d2')\"\n",
              "            title=\"Suggest charts\"\n",
              "            style=\"display:none;\">\n",
              "\n",
              "<svg xmlns=\"http://www.w3.org/2000/svg\" height=\"24px\"viewBox=\"0 0 24 24\"\n",
              "     width=\"24px\">\n",
              "    <g>\n",
              "        <path d=\"M19 3H5c-1.1 0-2 .9-2 2v14c0 1.1.9 2 2 2h14c1.1 0 2-.9 2-2V5c0-1.1-.9-2-2-2zM9 17H7v-7h2v7zm4 0h-2V7h2v10zm4 0h-2v-4h2v4z\"/>\n",
              "    </g>\n",
              "</svg>\n",
              "  </button>\n",
              "\n",
              "<style>\n",
              "  .colab-df-quickchart {\n",
              "      --bg-color: #E8F0FE;\n",
              "      --fill-color: #1967D2;\n",
              "      --hover-bg-color: #E2EBFA;\n",
              "      --hover-fill-color: #174EA6;\n",
              "      --disabled-fill-color: #AAA;\n",
              "      --disabled-bg-color: #DDD;\n",
              "  }\n",
              "\n",
              "  [theme=dark] .colab-df-quickchart {\n",
              "      --bg-color: #3B4455;\n",
              "      --fill-color: #D2E3FC;\n",
              "      --hover-bg-color: #434B5C;\n",
              "      --hover-fill-color: #FFFFFF;\n",
              "      --disabled-bg-color: #3B4455;\n",
              "      --disabled-fill-color: #666;\n",
              "  }\n",
              "\n",
              "  .colab-df-quickchart {\n",
              "    background-color: var(--bg-color);\n",
              "    border: none;\n",
              "    border-radius: 50%;\n",
              "    cursor: pointer;\n",
              "    display: none;\n",
              "    fill: var(--fill-color);\n",
              "    height: 32px;\n",
              "    padding: 0;\n",
              "    width: 32px;\n",
              "  }\n",
              "\n",
              "  .colab-df-quickchart:hover {\n",
              "    background-color: var(--hover-bg-color);\n",
              "    box-shadow: 0 1px 2px rgba(60, 64, 67, 0.3), 0 1px 3px 1px rgba(60, 64, 67, 0.15);\n",
              "    fill: var(--button-hover-fill-color);\n",
              "  }\n",
              "\n",
              "  .colab-df-quickchart-complete:disabled,\n",
              "  .colab-df-quickchart-complete:disabled:hover {\n",
              "    background-color: var(--disabled-bg-color);\n",
              "    fill: var(--disabled-fill-color);\n",
              "    box-shadow: none;\n",
              "  }\n",
              "\n",
              "  .colab-df-spinner {\n",
              "    border: 2px solid var(--fill-color);\n",
              "    border-color: transparent;\n",
              "    border-bottom-color: var(--fill-color);\n",
              "    animation:\n",
              "      spin 1s steps(1) infinite;\n",
              "  }\n",
              "\n",
              "  @keyframes spin {\n",
              "    0% {\n",
              "      border-color: transparent;\n",
              "      border-bottom-color: var(--fill-color);\n",
              "      border-left-color: var(--fill-color);\n",
              "    }\n",
              "    20% {\n",
              "      border-color: transparent;\n",
              "      border-left-color: var(--fill-color);\n",
              "      border-top-color: var(--fill-color);\n",
              "    }\n",
              "    30% {\n",
              "      border-color: transparent;\n",
              "      border-left-color: var(--fill-color);\n",
              "      border-top-color: var(--fill-color);\n",
              "      border-right-color: var(--fill-color);\n",
              "    }\n",
              "    40% {\n",
              "      border-color: transparent;\n",
              "      border-right-color: var(--fill-color);\n",
              "      border-top-color: var(--fill-color);\n",
              "    }\n",
              "    60% {\n",
              "      border-color: transparent;\n",
              "      border-right-color: var(--fill-color);\n",
              "    }\n",
              "    80% {\n",
              "      border-color: transparent;\n",
              "      border-right-color: var(--fill-color);\n",
              "      border-bottom-color: var(--fill-color);\n",
              "    }\n",
              "    90% {\n",
              "      border-color: transparent;\n",
              "      border-bottom-color: var(--fill-color);\n",
              "    }\n",
              "  }\n",
              "</style>\n",
              "\n",
              "  <script>\n",
              "    async function quickchart(key) {\n",
              "      const quickchartButtonEl =\n",
              "        document.querySelector('#' + key + ' button');\n",
              "      quickchartButtonEl.disabled = true;  // To prevent multiple clicks.\n",
              "      quickchartButtonEl.classList.add('colab-df-spinner');\n",
              "      try {\n",
              "        const charts = await google.colab.kernel.invokeFunction(\n",
              "            'suggestCharts', [key], {});\n",
              "      } catch (error) {\n",
              "        console.error('Error during call to suggestCharts:', error);\n",
              "      }\n",
              "      quickchartButtonEl.classList.remove('colab-df-spinner');\n",
              "      quickchartButtonEl.classList.add('colab-df-quickchart-complete');\n",
              "    }\n",
              "    (() => {\n",
              "      let quickchartButtonEl =\n",
              "        document.querySelector('#df-e6b52a18-0981-4c1c-b5ce-c17e2c0bb9d2 button');\n",
              "      quickchartButtonEl.style.display =\n",
              "        google.colab.kernel.accessAllowed ? 'block' : 'none';\n",
              "    })();\n",
              "  </script>\n",
              "</div>\n",
              "\n",
              "    </div>\n",
              "  </div>\n"
            ],
            "application/vnd.google.colaboratory.intrinsic+json": {
              "type": "dataframe",
              "variable_name": "df"
            }
          },
          "metadata": {},
          "execution_count": 57
        }
      ],
      "source": [
        "df.head()"
      ]
    },
    {
      "cell_type": "markdown",
      "metadata": {
        "id": "pUVV3dGNfL5B"
      },
      "source": [
        "# Data cleaning"
      ]
    },
    {
      "cell_type": "markdown",
      "metadata": {
        "id": "TujRwQ3hfR4d"
      },
      "source": [
        "## Property Categories"
      ]
    },
    {
      "cell_type": "code",
      "execution_count": 58,
      "metadata": {
        "colab": {
          "base_uri": "https://localhost:8080/",
          "height": 774
        },
        "id": "CbUsuj6SgwWD",
        "outputId": "06092c65-1f23-4d85-ebcf-2ce63c568ab8"
      },
      "outputs": [
        {
          "output_type": "execute_result",
          "data": {
            "text/plain": [
              "category\n",
              "House                  15053\n",
              "Apartment              13621\n",
              "Duplex                  2105\n",
              "Mansion                  764\n",
              "Townhouse / Terrace      491\n",
              "Room & Parlour           322\n",
              "Bungalow                 271\n",
              "Townhouse/Terrace        265\n",
              "Block of Flats           237\n",
              "Mini Flat                142\n",
              "Studio Apartment          93\n",
              "Maisonette                54\n",
              "Penthouse                 48\n",
              "Shared Apartment          32\n",
              "Villa                     28\n",
              "Bedsitter                 27\n",
              "Condo                     22\n",
              "Townhouse                 20\n",
              "Farm House                10\n",
              "Chalet                     3\n",
              "Flat                       1\n",
              "Name: count, dtype: int64"
            ],
            "text/html": [
              "<div>\n",
              "<style scoped>\n",
              "    .dataframe tbody tr th:only-of-type {\n",
              "        vertical-align: middle;\n",
              "    }\n",
              "\n",
              "    .dataframe tbody tr th {\n",
              "        vertical-align: top;\n",
              "    }\n",
              "\n",
              "    .dataframe thead th {\n",
              "        text-align: right;\n",
              "    }\n",
              "</style>\n",
              "<table border=\"1\" class=\"dataframe\">\n",
              "  <thead>\n",
              "    <tr style=\"text-align: right;\">\n",
              "      <th></th>\n",
              "      <th>count</th>\n",
              "    </tr>\n",
              "    <tr>\n",
              "      <th>category</th>\n",
              "      <th></th>\n",
              "    </tr>\n",
              "  </thead>\n",
              "  <tbody>\n",
              "    <tr>\n",
              "      <th>House</th>\n",
              "      <td>15053</td>\n",
              "    </tr>\n",
              "    <tr>\n",
              "      <th>Apartment</th>\n",
              "      <td>13621</td>\n",
              "    </tr>\n",
              "    <tr>\n",
              "      <th>Duplex</th>\n",
              "      <td>2105</td>\n",
              "    </tr>\n",
              "    <tr>\n",
              "      <th>Mansion</th>\n",
              "      <td>764</td>\n",
              "    </tr>\n",
              "    <tr>\n",
              "      <th>Townhouse / Terrace</th>\n",
              "      <td>491</td>\n",
              "    </tr>\n",
              "    <tr>\n",
              "      <th>Room &amp; Parlour</th>\n",
              "      <td>322</td>\n",
              "    </tr>\n",
              "    <tr>\n",
              "      <th>Bungalow</th>\n",
              "      <td>271</td>\n",
              "    </tr>\n",
              "    <tr>\n",
              "      <th>Townhouse/Terrace</th>\n",
              "      <td>265</td>\n",
              "    </tr>\n",
              "    <tr>\n",
              "      <th>Block of Flats</th>\n",
              "      <td>237</td>\n",
              "    </tr>\n",
              "    <tr>\n",
              "      <th>Mini Flat</th>\n",
              "      <td>142</td>\n",
              "    </tr>\n",
              "    <tr>\n",
              "      <th>Studio Apartment</th>\n",
              "      <td>93</td>\n",
              "    </tr>\n",
              "    <tr>\n",
              "      <th>Maisonette</th>\n",
              "      <td>54</td>\n",
              "    </tr>\n",
              "    <tr>\n",
              "      <th>Penthouse</th>\n",
              "      <td>48</td>\n",
              "    </tr>\n",
              "    <tr>\n",
              "      <th>Shared Apartment</th>\n",
              "      <td>32</td>\n",
              "    </tr>\n",
              "    <tr>\n",
              "      <th>Villa</th>\n",
              "      <td>28</td>\n",
              "    </tr>\n",
              "    <tr>\n",
              "      <th>Bedsitter</th>\n",
              "      <td>27</td>\n",
              "    </tr>\n",
              "    <tr>\n",
              "      <th>Condo</th>\n",
              "      <td>22</td>\n",
              "    </tr>\n",
              "    <tr>\n",
              "      <th>Townhouse</th>\n",
              "      <td>20</td>\n",
              "    </tr>\n",
              "    <tr>\n",
              "      <th>Farm House</th>\n",
              "      <td>10</td>\n",
              "    </tr>\n",
              "    <tr>\n",
              "      <th>Chalet</th>\n",
              "      <td>3</td>\n",
              "    </tr>\n",
              "    <tr>\n",
              "      <th>Flat</th>\n",
              "      <td>1</td>\n",
              "    </tr>\n",
              "  </tbody>\n",
              "</table>\n",
              "</div><br><label><b>dtype:</b> int64</label>"
            ]
          },
          "metadata": {},
          "execution_count": 58
        }
      ],
      "source": [
        "df.category.value_counts()"
      ]
    },
    {
      "cell_type": "code",
      "execution_count": 59,
      "metadata": {
        "colab": {
          "base_uri": "https://localhost:8080/"
        },
        "id": "FP10AUBXfPOe",
        "outputId": "c4dd883f-13b2-47a6-c89f-8668db612fa8"
      },
      "outputs": [
        {
          "output_type": "execute_result",
          "data": {
            "text/plain": [
              "['Apartment',\n",
              " 'House',\n",
              " 'Room & Parlour',\n",
              " 'Townhouse / Terrace',\n",
              " 'Mini Flat',\n",
              " 'Duplex',\n",
              " 'Mansion',\n",
              " 'Block of Flats',\n",
              " 'Studio Apartment',\n",
              " 'Penthouse',\n",
              " 'Bungalow',\n",
              " 'Townhouse',\n",
              " 'Bedsitter',\n",
              " 'Townhouse/Terrace',\n",
              " 'Shared Apartment',\n",
              " 'Villa',\n",
              " 'Maisonette',\n",
              " 'Farm House',\n",
              " 'Flat',\n",
              " 'Condo',\n",
              " None,\n",
              " 'Chalet']"
            ]
          },
          "metadata": {},
          "execution_count": 59
        }
      ],
      "source": [
        "df.category.unique().tolist()"
      ]
    },
    {
      "cell_type": "code",
      "execution_count": 60,
      "metadata": {
        "id": "bXZtWSNFfZhx"
      },
      "outputs": [],
      "source": [
        "# regroup the categories\n",
        "df['category'] = df['category'].map({\n",
        "    'Apartment': 'Flats',\n",
        "    'House': 'Detached',\n",
        "    'Townhouse / Terrace': 'Townhouse',\n",
        "    'Mini Flat': 'Flats',\n",
        "    'Penthouse': 'Detached',\n",
        "    'Duplex': 'Duplex',\n",
        "    'Room & Parlour': 'Flats',\n",
        "    'Mansion': 'Mansion',\n",
        "    'Studio Apartment': 'Flats',\n",
        "    'Bungalow': 'Detached',\n",
        "    'Block of Flats': 'Semi-Detached',\n",
        "    'Villa': 'Detached',\n",
        "    'Shared Apartment': 'Flats',\n",
        "    'Maisonette': 'Flats',\n",
        "    'Townhouse/Terrace': 'Townhouse',\n",
        "    'Bedsitter': 'Flats',\n",
        "    'Farm House': 'Detached',\n",
        "    'Chalet': 'Detached',\n",
        "    'Townhouse': 'Semi-Detached',\n",
        "    'Condo': 'Flats',\n",
        "    'Flat': 'Flats'\n",
        "})"
      ]
    },
    {
      "cell_type": "code",
      "execution_count": 61,
      "metadata": {
        "colab": {
          "base_uri": "https://localhost:8080/",
          "height": 304
        },
        "id": "KZJ9Be7Tg7_Y",
        "outputId": "43a76f81-eb93-4729-f2b1-53853d3df177"
      },
      "outputs": [
        {
          "output_type": "execute_result",
          "data": {
            "text/plain": [
              "category\n",
              "Detached         15413\n",
              "Flats            14314\n",
              "Duplex            2105\n",
              "Mansion            764\n",
              "Townhouse          756\n",
              "Semi-Detached      257\n",
              "Name: count, dtype: int64"
            ],
            "text/html": [
              "<div>\n",
              "<style scoped>\n",
              "    .dataframe tbody tr th:only-of-type {\n",
              "        vertical-align: middle;\n",
              "    }\n",
              "\n",
              "    .dataframe tbody tr th {\n",
              "        vertical-align: top;\n",
              "    }\n",
              "\n",
              "    .dataframe thead th {\n",
              "        text-align: right;\n",
              "    }\n",
              "</style>\n",
              "<table border=\"1\" class=\"dataframe\">\n",
              "  <thead>\n",
              "    <tr style=\"text-align: right;\">\n",
              "      <th></th>\n",
              "      <th>count</th>\n",
              "    </tr>\n",
              "    <tr>\n",
              "      <th>category</th>\n",
              "      <th></th>\n",
              "    </tr>\n",
              "  </thead>\n",
              "  <tbody>\n",
              "    <tr>\n",
              "      <th>Detached</th>\n",
              "      <td>15413</td>\n",
              "    </tr>\n",
              "    <tr>\n",
              "      <th>Flats</th>\n",
              "      <td>14314</td>\n",
              "    </tr>\n",
              "    <tr>\n",
              "      <th>Duplex</th>\n",
              "      <td>2105</td>\n",
              "    </tr>\n",
              "    <tr>\n",
              "      <th>Mansion</th>\n",
              "      <td>764</td>\n",
              "    </tr>\n",
              "    <tr>\n",
              "      <th>Townhouse</th>\n",
              "      <td>756</td>\n",
              "    </tr>\n",
              "    <tr>\n",
              "      <th>Semi-Detached</th>\n",
              "      <td>257</td>\n",
              "    </tr>\n",
              "  </tbody>\n",
              "</table>\n",
              "</div><br><label><b>dtype:</b> int64</label>"
            ]
          },
          "metadata": {},
          "execution_count": 61
        }
      ],
      "source": [
        "df['category'].value_counts()"
      ]
    },
    {
      "cell_type": "markdown",
      "metadata": {
        "id": "Miofc_HgiQrk"
      },
      "source": [
        "## Property condition\n",
        "\n",
        "Refine property conditions and merge duplicates"
      ]
    },
    {
      "cell_type": "code",
      "execution_count": 62,
      "metadata": {
        "colab": {
          "base_uri": "https://localhost:8080/",
          "height": 335
        },
        "id": "x6gexXVDg-VX",
        "outputId": "7df8748f-7f88-4456-f5d5-e2077da472be"
      },
      "outputs": [
        {
          "output_type": "execute_result",
          "data": {
            "text/plain": [
              "condition\n",
              "Newly-Built             19322\n",
              "Fairly Used             11931\n",
              "Uncompleted Building      936\n",
              "Renovated                 677\n",
              "Old                       353\n",
              "Under construction         69\n",
              "Off-Plan                   21\n",
              "Name: count, dtype: int64"
            ],
            "text/html": [
              "<div>\n",
              "<style scoped>\n",
              "    .dataframe tbody tr th:only-of-type {\n",
              "        vertical-align: middle;\n",
              "    }\n",
              "\n",
              "    .dataframe tbody tr th {\n",
              "        vertical-align: top;\n",
              "    }\n",
              "\n",
              "    .dataframe thead th {\n",
              "        text-align: right;\n",
              "    }\n",
              "</style>\n",
              "<table border=\"1\" class=\"dataframe\">\n",
              "  <thead>\n",
              "    <tr style=\"text-align: right;\">\n",
              "      <th></th>\n",
              "      <th>count</th>\n",
              "    </tr>\n",
              "    <tr>\n",
              "      <th>condition</th>\n",
              "      <th></th>\n",
              "    </tr>\n",
              "  </thead>\n",
              "  <tbody>\n",
              "    <tr>\n",
              "      <th>Newly-Built</th>\n",
              "      <td>19322</td>\n",
              "    </tr>\n",
              "    <tr>\n",
              "      <th>Fairly Used</th>\n",
              "      <td>11931</td>\n",
              "    </tr>\n",
              "    <tr>\n",
              "      <th>Uncompleted Building</th>\n",
              "      <td>936</td>\n",
              "    </tr>\n",
              "    <tr>\n",
              "      <th>Renovated</th>\n",
              "      <td>677</td>\n",
              "    </tr>\n",
              "    <tr>\n",
              "      <th>Old</th>\n",
              "      <td>353</td>\n",
              "    </tr>\n",
              "    <tr>\n",
              "      <th>Under construction</th>\n",
              "      <td>69</td>\n",
              "    </tr>\n",
              "    <tr>\n",
              "      <th>Off-Plan</th>\n",
              "      <td>21</td>\n",
              "    </tr>\n",
              "  </tbody>\n",
              "</table>\n",
              "</div><br><label><b>dtype:</b> int64</label>"
            ]
          },
          "metadata": {},
          "execution_count": 62
        }
      ],
      "source": [
        "df.condition.value_counts()"
      ]
    },
    {
      "cell_type": "code",
      "execution_count": 63,
      "metadata": {
        "id": "RWiPJ1vDicNV"
      },
      "outputs": [],
      "source": [
        "df['condition'] = df['condition'].map({\n",
        "    'Newly-Built': 'New',\n",
        "    'Fairly Used': 'Used',\n",
        "    'Uncompleted Building': 'Off-Plan',\n",
        "    'Renovated': 'Renovated',\n",
        "    'Old': 'Used',\n",
        "    'Under construction': 'Off-Plan',\n",
        "    'Off-Plan':'Off-Plan',\n",
        "    'New': 'New'\n",
        "})"
      ]
    },
    {
      "cell_type": "code",
      "execution_count": 64,
      "metadata": {
        "colab": {
          "base_uri": "https://localhost:8080/",
          "height": 241
        },
        "id": "0D1idkIhijat",
        "outputId": "81d9cb3a-535c-4061-9c50-128a1b53cd0d"
      },
      "outputs": [
        {
          "output_type": "execute_result",
          "data": {
            "text/plain": [
              "condition\n",
              "New          19322\n",
              "Used         12284\n",
              "Off-Plan      1026\n",
              "Renovated      677\n",
              "Name: count, dtype: int64"
            ],
            "text/html": [
              "<div>\n",
              "<style scoped>\n",
              "    .dataframe tbody tr th:only-of-type {\n",
              "        vertical-align: middle;\n",
              "    }\n",
              "\n",
              "    .dataframe tbody tr th {\n",
              "        vertical-align: top;\n",
              "    }\n",
              "\n",
              "    .dataframe thead th {\n",
              "        text-align: right;\n",
              "    }\n",
              "</style>\n",
              "<table border=\"1\" class=\"dataframe\">\n",
              "  <thead>\n",
              "    <tr style=\"text-align: right;\">\n",
              "      <th></th>\n",
              "      <th>count</th>\n",
              "    </tr>\n",
              "    <tr>\n",
              "      <th>condition</th>\n",
              "      <th></th>\n",
              "    </tr>\n",
              "  </thead>\n",
              "  <tbody>\n",
              "    <tr>\n",
              "      <th>New</th>\n",
              "      <td>19322</td>\n",
              "    </tr>\n",
              "    <tr>\n",
              "      <th>Used</th>\n",
              "      <td>12284</td>\n",
              "    </tr>\n",
              "    <tr>\n",
              "      <th>Off-Plan</th>\n",
              "      <td>1026</td>\n",
              "    </tr>\n",
              "    <tr>\n",
              "      <th>Renovated</th>\n",
              "      <td>677</td>\n",
              "    </tr>\n",
              "  </tbody>\n",
              "</table>\n",
              "</div><br><label><b>dtype:</b> int64</label>"
            ]
          },
          "metadata": {},
          "execution_count": 64
        }
      ],
      "source": [
        "df.condition.value_counts()"
      ]
    },
    {
      "cell_type": "markdown",
      "metadata": {
        "id": "05lHJ97Xivwk"
      },
      "source": [
        "## Floor area\n",
        "\n",
        "Strip unit and convert floor area to floats"
      ]
    },
    {
      "cell_type": "code",
      "execution_count": 65,
      "metadata": {
        "colab": {
          "base_uri": "https://localhost:8080/",
          "height": 241
        },
        "id": "9GsF31qWi5GM",
        "outputId": "a875cf0c-5e01-40e5-a9ee-a01d15f76da9"
      },
      "outputs": [
        {
          "output_type": "execute_result",
          "data": {
            "text/plain": [
              "0    158 sqm\n",
              "1    145 sqm\n",
              "2    100 sqm\n",
              "3    100 sqm\n",
              "4    100 sqm\n",
              "Name: floor_area, dtype: object"
            ],
            "text/html": [
              "<div>\n",
              "<style scoped>\n",
              "    .dataframe tbody tr th:only-of-type {\n",
              "        vertical-align: middle;\n",
              "    }\n",
              "\n",
              "    .dataframe tbody tr th {\n",
              "        vertical-align: top;\n",
              "    }\n",
              "\n",
              "    .dataframe thead th {\n",
              "        text-align: right;\n",
              "    }\n",
              "</style>\n",
              "<table border=\"1\" class=\"dataframe\">\n",
              "  <thead>\n",
              "    <tr style=\"text-align: right;\">\n",
              "      <th></th>\n",
              "      <th>floor_area</th>\n",
              "    </tr>\n",
              "  </thead>\n",
              "  <tbody>\n",
              "    <tr>\n",
              "      <th>0</th>\n",
              "      <td>158 sqm</td>\n",
              "    </tr>\n",
              "    <tr>\n",
              "      <th>1</th>\n",
              "      <td>145 sqm</td>\n",
              "    </tr>\n",
              "    <tr>\n",
              "      <th>2</th>\n",
              "      <td>100 sqm</td>\n",
              "    </tr>\n",
              "    <tr>\n",
              "      <th>3</th>\n",
              "      <td>100 sqm</td>\n",
              "    </tr>\n",
              "    <tr>\n",
              "      <th>4</th>\n",
              "      <td>100 sqm</td>\n",
              "    </tr>\n",
              "  </tbody>\n",
              "</table>\n",
              "</div><br><label><b>dtype:</b> object</label>"
            ]
          },
          "metadata": {},
          "execution_count": 65
        }
      ],
      "source": [
        "df.floor_area.head()"
      ]
    },
    {
      "cell_type": "code",
      "execution_count": 66,
      "metadata": {
        "id": "g5P4ST4gjGsE"
      },
      "outputs": [],
      "source": [
        "import re\n",
        "\n",
        "def parse_floor_area(x):\n",
        "    if not x:\n",
        "        return np.nan\n",
        "    area = re.findall(r\"\\d+\", str(x))\n",
        "    return int(area[0]) if area else np.nan\n",
        "\n",
        "df['floor_area'] = df['floor_area'].apply(parse_floor_area)"
      ]
    },
    {
      "cell_type": "markdown",
      "metadata": {
        "id": "AdncooCqjhNJ"
      },
      "source": [
        "## Location\n",
        "\n"
      ]
    },
    {
      "cell_type": "code",
      "execution_count": 67,
      "metadata": {
        "colab": {
          "base_uri": "https://localhost:8080/"
        },
        "id": "opRNvAwA3RVK",
        "outputId": "0a7fdc9a-881d-4180-9a9f-8eae970261aa"
      },
      "outputs": [
        {
          "output_type": "execute_result",
          "data": {
            "text/plain": [
              "345"
            ]
          },
          "metadata": {},
          "execution_count": 67
        }
      ],
      "source": [
        "df['location'].nunique()"
      ]
    },
    {
      "cell_type": "code",
      "execution_count": 68,
      "metadata": {
        "colab": {
          "base_uri": "https://localhost:8080/"
        },
        "id": "pk9Syr7yjr2A",
        "outputId": "c07c9327-65ce-45e5-8735-b6ade30721da"
      },
      "outputs": [
        {
          "output_type": "execute_result",
          "data": {
            "text/plain": [
              "array(['Ashanti, Kumasi Metropolitan', 'Greater Accra, East Legon',\n",
              "       'Greater Accra, Dzorwulu',\n",
              "       'Greater Accra, Ashaley Botwe, Lake Side Estate',\n",
              "       'Greater Accra, Ashaley Botwe, Ashaley Botwe School Junction',\n",
              "       'Greater Accra, Teshie', 'Greater Accra, Spintex',\n",
              "       'Greater Accra, Agbogba', 'Greater Accra, Adenta',\n",
              "       'Greater Accra, Oyarifa', 'Greater Accra, Cantonments',\n",
              "       'Greater Accra, Adjiriganor', 'Greater Accra, Haatso, ECOMOG',\n",
              "       'Greater Accra, Ashaiman Municipal',\n",
              "       'Greater Accra, Accra Metropolitan',\n",
              "       'Greater Accra, Oyarifa, Owusu Ansah',\n",
              "       'Greater Accra, Nungua, Addogonno',\n",
              "       'Greater Accra, Teshie, Tseaddo',\n",
              "       'Greater Accra, Ablekuma, Manhean',\n",
              "       'Greater Accra, East Legon, East Legon Police Station',\n",
              "       'Greater Accra, Weija, Bortiano', 'Greater Accra, Dome',\n",
              "       'Greater Accra, Spintex, Baatsona Total',\n",
              "       'Greater Accra, Burma Camp', 'Greater Accra, Adjiriganor, Ability',\n",
              "       'Greater Accra, Ashomang Estate',\n",
              "       'Greater Accra, Ga West Municipal, Amasaman',\n",
              "       'Greater Accra, Taifa-Burkina', 'Greater Accra, Osu',\n",
              "       'Greater Accra, Tema Metropolitan',\n",
              "       'Greater Accra, Osu, Oxford Street',\n",
              "       'Greater Accra, Airport Residential Area',\n",
              "       'Greater Accra, Kaneshie, North Kaneshie',\n",
              "       'Greater Accra, Ga South Municipal', 'Greater Accra, Labone',\n",
              "       'Greater Accra, Ga West Municipal, Kwabenya',\n",
              "       'Greater Accra, West Legon', 'Greater Accra, Roman Ridge',\n",
              "       'Greater Accra, Ashaley Botwe', 'Greater Accra, Madina',\n",
              "       'Greater Accra, Weija, Old Barrier / Weija',\n",
              "       'Greater Accra, Tesano',\n",
              "       'Greater Accra, East Legon, American House',\n",
              "       'Greater Accra, Kasoa', 'Greater Accra, North Legon',\n",
              "       'Greater Accra, Spintex, Coca Cola',\n",
              "       'Eastern Region, New-Juaben Municipal',\n",
              "       'Greater Accra, Teshie, GREDA Estate', 'Greater Accra, Dansoman',\n",
              "       'Greater Accra, Abokobi', 'Greater Accra, Ga West Municipal',\n",
              "       'Greater Accra, Tantra Hills', 'Greater Accra, Haatso',\n",
              "       'Greater Accra, Ofankor', 'Greater Accra, Spintex, Manet Junction',\n",
              "       'Greater Accra, Dome, Paradise Residential Area',\n",
              "       'Greater Accra, Adenta, New Legon',\n",
              "       'Greater Accra, Teshie, Teshie New Town',\n",
              "       'Greater Accra, Old Ashomang',\n",
              "       'Greater Accra, Cantonments, Acquinas', 'Greater Accra, Kotobabi',\n",
              "       'Greater Accra, Labone, Labone Junction',\n",
              "       'Greater Accra, Achimota',\n",
              "       'Greater Accra, Kasoa, Ngleshie Amanfro',\n",
              "       'Greater Accra, Ga East Municipal',\n",
              "       'Central Region, Awutu Senya East Municipal',\n",
              "       'Greater Accra, Weija', 'Greater Accra, Odorkor, Sakaman',\n",
              "       'Greater Accra, Darkuman', 'Greater Accra, Pokuase',\n",
              "       'Greater Accra, Lapaz', 'Greater Accra, East Legon, A&C Mall Area',\n",
              "       'Greater Accra, Ledzokuku-Krowor',\n",
              "       'Greater Accra, East Legon, Bawaleshie',\n",
              "       'Greater Accra, Kokomlemle', 'Greater Accra, Santa Maria',\n",
              "       'Greater Accra, Ridge, North Ridge',\n",
              "       'Greater Accra, Dome, Pillar 2',\n",
              "       'Greater Accra, Adenta, SDA Area / Adenta',\n",
              "       'Greater Accra, Oyarifa, Oyarifa Mall Area',\n",
              "       'Greater Accra, Dworwulu', 'Ashanti, Atwima Nwabiagya',\n",
              "       'Greater Accra, Kasoa, Toll Booth',\n",
              "       'Greater Accra, Ashomang Estate, Pure Water',\n",
              "       'Northern Region, Tamale Municipal',\n",
              "       'Greater Accra, Spintex, Manet Court', 'Greater Accra, Ablekuma',\n",
              "       'Greater Accra, Oyibi',\n",
              "       'Greater Accra, Ashaiman Municipal, Lashibi',\n",
              "       'Greater Accra, Kwashieman', 'Western Region, Takoradi',\n",
              "       'Greater Accra, Cantonments, US Embassy Area',\n",
              "       'Central Region, Awutu Senya West',\n",
              "       'Greater Accra, Labadi, Trade Fair', 'Brong Ahafo, Sunyani West',\n",
              "       'Greater Accra, Sowutwuom, Sowutwuom Last Stop',\n",
              "       'Greater Accra, Abelemkpe, Lincoln School Area',\n",
              "       'Greater Accra, Spintex, Regimanuel Gray Estates',\n",
              "       'Greater Accra, Teshie, Tsui-Bleoo', 'Greater Accra, Labadi',\n",
              "       'Greater Accra, Weija, West Hills Mall Area',\n",
              "       'Greater Accra, Awoshie', 'Greater Accra, Achimota, The Mall',\n",
              "       'Greater Accra, Adenta, Frafraha',\n",
              "       'Greater Accra, Kasoa, Opeikuma', 'Greater Accra, Dodowa',\n",
              "       'Greater Accra, Abelemkpe', 'Central Region, Effutu Municipal',\n",
              "       'Greater Accra, Nungua', 'Greater Accra, Lartebiokoshie',\n",
              "       'Greater Accra, East Legon, Boundary Road Area',\n",
              "       'Greater Accra, Mamprobi',\n",
              "       'Western Region, Shama Ahanta East Metropolitan',\n",
              "       'Greater Accra, Roman Ridge, MTN Area',\n",
              "       'Greater Accra, Ashaley Botwe, Little Roses Area',\n",
              "       'Greater Accra, Gbawe', 'Greater Accra, McCarthy Hill',\n",
              "       'Greater Accra, Oyarifa, Ghana Flag',\n",
              "       'Greater Accra, Dome, Parakuo Estate',\n",
              "       'Greater Accra, Madina, Doku',\n",
              "       'Greater Accra, Madina, Madina Estate',\n",
              "       'Greater Accra, Weija, Tetegu',\n",
              "       'Greater Accra, Nungua, Teshie-Nungua Estates',\n",
              "       'Greater Accra, Teshie, First Junction',\n",
              "       'Greater Accra, Adenta, Malejor',\n",
              "       'Greater Accra, Oyibi, Appolonia City',\n",
              "       'Eastern Region, Akuapim North', 'Greater Accra, Danfa',\n",
              "       'Greater Accra, Ashaley Botwe, Nmai-Dzorn',\n",
              "       'Greater Accra, Ashomang Estate, Ashomang Estate Police Station',\n",
              "       'Greater Accra, Santa Maria, Auntie Aku',\n",
              "       'Greater Accra, Adenta, Barrier / Adenta',\n",
              "       'Greater Accra, Ningo-Prampram, Prampram',\n",
              "       'Greater Accra, Achimota, Mile 7',\n",
              "       'Greater Accra, East Legon, Ghana Link Area',\n",
              "       'Greater Accra, Oyibi, Valley View Area',\n",
              "       'Greater Accra, Tesano, Papaye / Tesano',\n",
              "       'Ashanti, Atwima Kwanwoma', 'Greater Accra, Kasoa, Budumburam',\n",
              "       'Ashanti, Obuasi Municipal', 'Ashanti, Kwabre',\n",
              "       'Greater Accra, Ablekuma, Olebu',\n",
              "       'Ashanti, Ejisu-Juaben Municipal',\n",
              "       'Greater Accra, Gbawe, Bullemin',\n",
              "       'Greater Accra, Tema Metropolitan, Sakumono',\n",
              "       'Greater Accra, Haatso, Antis', 'Eastern Region, Ayensuano',\n",
              "       'Greater Accra, Sowutwuom', 'Brong Ahafo, Sunyani Municipal',\n",
              "       'Greater Accra, Kasoa, Bluetop Estate', 'Greater Accra, Ridge',\n",
              "       'Greater Accra, Achimota, Neoplan',\n",
              "       'Greater Accra, Adjiriganor, Otano',\n",
              "       'Volta Region, Keta Municipal', 'Ashanti, Afigya-Kwabre',\n",
              "       'Greater Accra, Mamobi, Kaneshie Station',\n",
              "       'Greater Accra, Haatso, Asore Junction',\n",
              "       'Greater Accra, Anyaa, Anyaa School Junction',\n",
              "       'Greater Accra, Awoshie, A-Lang / Awoshie',\n",
              "       'Greater Accra, Taifa-Burkina, Taifa-Burkina Station',\n",
              "       'Greater Accra, Anyaa', 'Greater Accra, Ablekuma, Agape',\n",
              "       'Greater Accra, Ablekuma, Pentecost / Ablekuma',\n",
              "       'Eastern Region, Akuapim South, Aburi',\n",
              "       'Ashanti, Mampong Municipal',\n",
              "       'Greater Accra, Ashaley Botwe, New Town / Ashaley Botwe',\n",
              "       'Greater Accra, Adenta, Housing Down',\n",
              "       'Greater Accra, Ofankor, Ofankor / Ofankor',\n",
              "       'Greater Accra, Adenta, Commandos', 'Greater Accra, Gbawe, Mallam',\n",
              "       'Greater Accra, Adenta, Sakora',\n",
              "       'Greater Accra, South La, South La Estates',\n",
              "       'Central Region, Gomoa East', 'Greater Accra, Anyaa, NIC / Anyaa',\n",
              "       'Greater Accra, West Legon, Presby Church Area / West Legon',\n",
              "       'Greater Accra, West Legon, Christian Village',\n",
              "       'Greater Accra, Kasoa, Millenium City', 'Greater Accra, Bubuashie',\n",
              "       'Greater Accra, Abokobi, Boi / Abokobi',\n",
              "       'Greater Accra, Osu, Osu Ako-Adjei',\n",
              "       'Greater Accra, Oyibi, Kas Valley Area',\n",
              "       'Greater Accra, Gbawe, MacCharty Hills',\n",
              "       'Greater Accra, South Shiashie',\n",
              "       'Greater Accra, Dodowa, Ghanata Area',\n",
              "       'Greater Accra, Oyibi, Sasaabi',\n",
              "       'Greater Accra, Dansoman, SSNIT Flats / Dansoman',\n",
              "       'Greater Accra, Kasoa, Adam Nana',\n",
              "       'Greater Accra, Ridge, Ridge Hospital Area',\n",
              "       'Greater Accra, Nima, Kanda',\n",
              "       'Greater Accra, Kokomlemle, ATTC Area',\n",
              "       'Greater Accra, North Industrial Area',\n",
              "       'Greater Accra, Roman Ridge, Roman Ridge Shopping Arcade',\n",
              "       'Western Region, Tarkwa Nsuaem',\n",
              "       'Greater Accra, Adenta, SSNIT Flats / Adenta',\n",
              "       'Greater Accra, Kasoa, Galilea',\n",
              "       'Greater Accra, Dansoman, Exhibition / Dansoman',\n",
              "       'Greater Accra, Odorkor, Official Town', 'Greater Accra, Odorkor',\n",
              "       'Eastern Region, Akuapim South',\n",
              "       'Greater Accra, Gbawe, CP / Gbawe', 'Greater Accra, Alajo',\n",
              "       'Greater Accra, Labone, Coffee Shop Area',\n",
              "       'Greater Accra, Tesano, Abeka',\n",
              "       'Greater Accra, West Legon, Medifem Area',\n",
              "       'Greater Accra, Awoshie, Baah Yard',\n",
              "       'Greater Accra, Adenta, New Site',\n",
              "       'Greater Accra, Abelemkpe, Perez Chapel Area',\n",
              "       'Greater Accra, Cantonments, DVLA Area',\n",
              "       'Greater Accra, Kasoa, Kasoa New Market',\n",
              "       'Greater Accra, Gbawe, New Gbawe',\n",
              "       'Greater Accra, Sowutwuom, Pentecost University / Sowutwuom',\n",
              "       'Greater Accra, Mataheko',\n",
              "       'Greater Accra, Nungua, Brigade / Nungua',\n",
              "       'Greater Accra, Asylum Down', 'Greater Accra, Banana Inn',\n",
              "       'Greater Accra, West Legon, Villa Victoria Hotel',\n",
              "       'Greater Accra, West Legon, West Legon Police Station',\n",
              "       'Greater Accra, Dansoman, Keep Fit',\n",
              "       'Greater Accra, Ningo-Prampram, Dawhenya',\n",
              "       'Greater Accra, Gbawe, Top Base',\n",
              "       'Greater Accra, Adabraka, Cathedral Area',\n",
              "       'Greater Accra, Tantra Hills, Unity Closed',\n",
              "       'Central Region, Cape Coast Metropolitan',\n",
              "       'Greater Accra, Kasoa, Adade',\n",
              "       'Greater Accra, Dansoman, Sharp Curve',\n",
              "       'Greater Accra, Asylum Down, Happy FM Area',\n",
              "       'Greater Accra, South La', 'Volta Region, Ho Municipal',\n",
              "       'Ashanti, Bosomtwe', 'Eastern Region, East Akim Municipal',\n",
              "       'Greater Accra, Ofankor, Ofankor Post Office',\n",
              "       'Greater Accra, Spintex, Melcom',\n",
              "       'Greater Accra, Achimota, School Area',\n",
              "       'Greater Accra, Ablekuma, Fan Milk',\n",
              "       'Greater Accra, Santa Maria, Santa Maria Last Stop',\n",
              "       'Greater Accra, Kaneshie', 'Ashanti, Asokore Mampong Municipal',\n",
              "       'Greater Accra, Madina, UPSA Area',\n",
              "       'Greater Accra, Agbogba, Cemetery Area',\n",
              "       'Greater Accra, Labadi, Palm Wine',\n",
              "       'Greater Accra, Abelemkpe, Methodist Church Area',\n",
              "       'Greater Accra, Osu, Nyaniba Estate',\n",
              "       'Greater Accra, Oyibi, Oyibi Police Station',\n",
              "       'Greater Accra, Roman Ridge, Roman Ridge Prisons School',\n",
              "       'Greater Accra, Circle', 'Greater Accra, Teshie, Aboma',\n",
              "       'Greater Accra, Kaneshie, Awudome Estate',\n",
              "       'Greater Accra, Labone, Labone SHS Area', 'Greater Accra, Abofu',\n",
              "       'Greater Accra, Lapaz, Nyanmekye',\n",
              "       'Greater Accra, Dansoman, Round About',\n",
              "       'Greater Accra, Ridge, West Ridge',\n",
              "       'Greater Accra, Awoshie, Awoshie Last Stop',\n",
              "       'Greater Accra, Kasoa, Brigade / Kasoa',\n",
              "       'Greater Accra, Nii Boi Town', 'Central Region, Ekumfi',\n",
              "       'Greater Accra, Lapaz, Abrantie / Lapaz',\n",
              "       'Greater Accra, Kasoa, Akweley', 'Eastern Region, Asuogyaman',\n",
              "       'Greater Accra, Agbogba, School Park Area',\n",
              "       'Volta Region, Hohoe Municipal',\n",
              "       'Greater Accra, Tesano, Tesano Police Station',\n",
              "       'Greater Accra, Haatso, Papao',\n",
              "       'Greater Accra, Ningo-Prampram, New Ningo',\n",
              "       'Western Region, Wassa West', 'Western Region, Ahanta West',\n",
              "       'Northern Region, Savelugu-Nanton',\n",
              "       'Central Region, Mfantsiman Municipal',\n",
              "       'Brong Ahafo, Berekum Municipal',\n",
              "       'Greater Accra, Labone, Celsbridge Area',\n",
              "       'Greater Accra, Abossey Okai', 'Greater Accra, Dome, CFC Estates',\n",
              "       'Greater Accra, Weija, Weija Junction',\n",
              "       'Greater Accra, Teshie, Lascala',\n",
              "       'Greater Accra, Dworwulu, Special School Area',\n",
              "       'Greater Accra, Kasoa, Nyanyano',\n",
              "       'Greater Accra, Taifa-Burkina, Taifa-Burkina Market',\n",
              "       'Greater Accra, Mamprobi, New Mamprobi',\n",
              "       'Greater Accra, Nungua, Cold Store',\n",
              "       'Greater Accra, Abokobi, Pentecost / Abokobi',\n",
              "       'Greater Accra, Asylum Down, NPP Office Area',\n",
              "       'Greater Accra, Labadi, Olympia',\n",
              "       'Eastern Region, Lower Manya Krobo',\n",
              "       'Greater Accra, Madina, Social Welfare',\n",
              "       'Greater Accra, Little Legon',\n",
              "       'Greater Accra, Nungua, Junction Mall Area',\n",
              "       'Greater Accra, Ningo-Prampram',\n",
              "       'Greater Accra, Awoshie, Odorgonno',\n",
              "       'Greater Accra, Nungua, Martime University Area',\n",
              "       'Greater Accra, Labadi, La Wireless',\n",
              "       'Greater Accra, Taifa-Burkina, Taifa-Burkina Post Office',\n",
              "       'Greater Accra, Kotobabi, Kotobabi Down',\n",
              "       'Greater Accra, Asylum Down, Trust Towers Area',\n",
              "       'Greater Accra, Achimota, Overhead',\n",
              "       'Greater Accra, Tantra Hills, Ola Achool Area',\n",
              "       'Greater Accra, Okponglo',\n",
              "       'Greater Accra, Ablekuma, CP / Ablekuma',\n",
              "       'Greater Accra, Roman Ridge, Roman Ridge Police Station',\n",
              "       'Greater Accra, Madina, Zongo Junction',\n",
              "       'Greater Accra, Anyaa, Palas Town',\n",
              "       'Greater Accra, Lartebiokorshie',\n",
              "       'Greater Accra, Lapaz, Las Palmas Area', 'Greater Accra, Adabraka',\n",
              "       'Greater Accra, Oyarifa, Pentecost / Oyarifa',\n",
              "       'Central Region, Agona East', 'Greater Accra, Apenkwa',\n",
              "       'Ashanti, Bekwai Municipal', 'Greater Accra',\n",
              "       'Greater Accra, Gbawe, Zero / Gbawe',\n",
              "       'Greater Accra, Dansoman, Beacham',\n",
              "       'Eastern Region, Suhum/Kraboa/Coaltar',\n",
              "       'Brong Ahafo, Nkoranza South',\n",
              "       'Greater Accra, Dansoman, Asoredanho',\n",
              "       'Greater Accra, Kokomlemle, Heavy Do Area',\n",
              "       'Eastern Region, Akyemansa', 'Greater Accra, Akweteyman',\n",
              "       \"Greater Accra, Taifa-Burkina, St John's Area\",\n",
              "       'Greater Accra, Adabraka, Adabraka Market',\n",
              "       'Greater Accra, Gbawe, Mallam Junction', 'Greater Accra, Nima',\n",
              "       'Greater Accra, Dansoman, Afoko Foto',\n",
              "       'Greater Accra, Old Ashomang, Ablorh Adjei',\n",
              "       'Greater Accra, Nungua, Buade',\n",
              "       'Greater Accra, Santa Maria, School Complex Area',\n",
              "       'Greater Accra, Lartebiokoshie, Radio Gold Area',\n",
              "       'Greater Accra, Kotobabi, Kotobabi Pig Farm',\n",
              "       'Greater Accra, Gbawe, Bank Quarters',\n",
              "       'Eastern Region, West Akim Municipal',\n",
              "       'Greater Accra, Weija, Janman',\n",
              "       'Greater Accra, Osu, Danquah Circle',\n",
              "       'Greater Accra, Darkuman, Circle Station Area',\n",
              "       'Greater Accra, Awoshie, Mangoase',\n",
              "       'Greater Accra, Spintex, Papaye / Spintex',\n",
              "       'Greater Accra, Cantonments, Cantonments Prisons',\n",
              "       'Greater Accra, Dworwulu, Nyaho Medical Centre',\n",
              "       'Brong Ahafo, Kintampo North Municipal',\n",
              "       'Volta Region, South Dayi', 'Greater Accra, Nungua, Ravico Estate',\n",
              "       'Ashanti, Amansie West',\n",
              "       'Greater Accra, Taifa-Burkina, Taifa-Burkina Police Station',\n",
              "       'Greater Accra, Accra New Town', 'Greater Accra, Gbawe, Gonseh',\n",
              "       'Greater Accra, Sowutwuom, Israel Park',\n",
              "       'Greater Accra, Osu, Stadium Area',\n",
              "       'Greater Accra, Lapaz, Hong Kong'], dtype=object)"
            ]
          },
          "metadata": {},
          "execution_count": 68
        }
      ],
      "source": [
        "df['location'].unique()"
      ]
    },
    {
      "cell_type": "code",
      "execution_count": 69,
      "metadata": {
        "id": "h6aaQq0IjHyf"
      },
      "outputs": [],
      "source": [
        "# extract region names from location\n",
        "df['region'] = df['location'].map(lambda x: x.split(',')[0].strip())"
      ]
    },
    {
      "cell_type": "code",
      "execution_count": 70,
      "metadata": {
        "colab": {
          "base_uri": "https://localhost:8080/",
          "height": 366
        },
        "id": "bctNUhd-jTU4",
        "outputId": "5930201f-bad8-4ece-fb6e-98ebc6b5fc4a"
      },
      "outputs": [
        {
          "output_type": "execute_result",
          "data": {
            "text/plain": [
              "region\n",
              "Greater Accra      29918\n",
              "Ashanti             2731\n",
              "Central Region       419\n",
              "Northern Region      267\n",
              "Eastern Region       133\n",
              "Western Region       112\n",
              "Brong Ahafo           70\n",
              "Volta Region           9\n",
              "Name: count, dtype: int64"
            ],
            "text/html": [
              "<div>\n",
              "<style scoped>\n",
              "    .dataframe tbody tr th:only-of-type {\n",
              "        vertical-align: middle;\n",
              "    }\n",
              "\n",
              "    .dataframe tbody tr th {\n",
              "        vertical-align: top;\n",
              "    }\n",
              "\n",
              "    .dataframe thead th {\n",
              "        text-align: right;\n",
              "    }\n",
              "</style>\n",
              "<table border=\"1\" class=\"dataframe\">\n",
              "  <thead>\n",
              "    <tr style=\"text-align: right;\">\n",
              "      <th></th>\n",
              "      <th>count</th>\n",
              "    </tr>\n",
              "    <tr>\n",
              "      <th>region</th>\n",
              "      <th></th>\n",
              "    </tr>\n",
              "  </thead>\n",
              "  <tbody>\n",
              "    <tr>\n",
              "      <th>Greater Accra</th>\n",
              "      <td>29918</td>\n",
              "    </tr>\n",
              "    <tr>\n",
              "      <th>Ashanti</th>\n",
              "      <td>2731</td>\n",
              "    </tr>\n",
              "    <tr>\n",
              "      <th>Central Region</th>\n",
              "      <td>419</td>\n",
              "    </tr>\n",
              "    <tr>\n",
              "      <th>Northern Region</th>\n",
              "      <td>267</td>\n",
              "    </tr>\n",
              "    <tr>\n",
              "      <th>Eastern Region</th>\n",
              "      <td>133</td>\n",
              "    </tr>\n",
              "    <tr>\n",
              "      <th>Western Region</th>\n",
              "      <td>112</td>\n",
              "    </tr>\n",
              "    <tr>\n",
              "      <th>Brong Ahafo</th>\n",
              "      <td>70</td>\n",
              "    </tr>\n",
              "    <tr>\n",
              "      <th>Volta Region</th>\n",
              "      <td>9</td>\n",
              "    </tr>\n",
              "  </tbody>\n",
              "</table>\n",
              "</div><br><label><b>dtype:</b> int64</label>"
            ]
          },
          "metadata": {},
          "execution_count": 70
        }
      ],
      "source": [
        "df['region'].value_counts()"
      ]
    },
    {
      "cell_type": "code",
      "execution_count": 71,
      "metadata": {
        "colab": {
          "base_uri": "https://localhost:8080/",
          "height": 490
        },
        "id": "aJjyvODxj2xK",
        "outputId": "6f0e5e55-f030-4a81-8e4e-f04b43997e18"
      },
      "outputs": [
        {
          "output_type": "execute_result",
          "data": {
            "text/plain": [
              "locality\n",
              "East Legon              5040\n",
              "Spintex                 3187\n",
              "Kumasi Metropolitan     2500\n",
              "Ashaley Botwe           2182\n",
              "Accra Metropolitan      2172\n",
              "                        ... \n",
              "Abossey Okai               1\n",
              "Ekumfi                     1\n",
              "Mfantsiman Municipal       1\n",
              "Savelugu-Nanton            1\n",
              "Apenkwa                    1\n",
              "Name: count, Length: 131, dtype: int64"
            ],
            "text/html": [
              "<div>\n",
              "<style scoped>\n",
              "    .dataframe tbody tr th:only-of-type {\n",
              "        vertical-align: middle;\n",
              "    }\n",
              "\n",
              "    .dataframe tbody tr th {\n",
              "        vertical-align: top;\n",
              "    }\n",
              "\n",
              "    .dataframe thead th {\n",
              "        text-align: right;\n",
              "    }\n",
              "</style>\n",
              "<table border=\"1\" class=\"dataframe\">\n",
              "  <thead>\n",
              "    <tr style=\"text-align: right;\">\n",
              "      <th></th>\n",
              "      <th>count</th>\n",
              "    </tr>\n",
              "    <tr>\n",
              "      <th>locality</th>\n",
              "      <th></th>\n",
              "    </tr>\n",
              "  </thead>\n",
              "  <tbody>\n",
              "    <tr>\n",
              "      <th>East Legon</th>\n",
              "      <td>5040</td>\n",
              "    </tr>\n",
              "    <tr>\n",
              "      <th>Spintex</th>\n",
              "      <td>3187</td>\n",
              "    </tr>\n",
              "    <tr>\n",
              "      <th>Kumasi Metropolitan</th>\n",
              "      <td>2500</td>\n",
              "    </tr>\n",
              "    <tr>\n",
              "      <th>Ashaley Botwe</th>\n",
              "      <td>2182</td>\n",
              "    </tr>\n",
              "    <tr>\n",
              "      <th>Accra Metropolitan</th>\n",
              "      <td>2172</td>\n",
              "    </tr>\n",
              "    <tr>\n",
              "      <th>...</th>\n",
              "      <td>...</td>\n",
              "    </tr>\n",
              "    <tr>\n",
              "      <th>Abossey Okai</th>\n",
              "      <td>1</td>\n",
              "    </tr>\n",
              "    <tr>\n",
              "      <th>Ekumfi</th>\n",
              "      <td>1</td>\n",
              "    </tr>\n",
              "    <tr>\n",
              "      <th>Mfantsiman Municipal</th>\n",
              "      <td>1</td>\n",
              "    </tr>\n",
              "    <tr>\n",
              "      <th>Savelugu-Nanton</th>\n",
              "      <td>1</td>\n",
              "    </tr>\n",
              "    <tr>\n",
              "      <th>Apenkwa</th>\n",
              "      <td>1</td>\n",
              "    </tr>\n",
              "  </tbody>\n",
              "</table>\n",
              "<p>131 rows × 1 columns</p>\n",
              "</div><br><label><b>dtype:</b> int64</label>"
            ]
          },
          "metadata": {},
          "execution_count": 71
        }
      ],
      "source": [
        "# extract locality from location\n",
        "\n",
        "import re\n",
        "\n",
        "\n",
        "def parse_locality(x):\n",
        "    if not x:\n",
        "        return np.nan\n",
        "\n",
        "    parts = re.split(r'[,/]', x)\n",
        "    parts = [part.strip() for part in parts]\n",
        "\n",
        "    if len(parts) > 1:\n",
        "        return parts[1]\n",
        "    else:\n",
        "        return np.nan\n",
        "\n",
        "\n",
        "df['locality'] = df['location'].map(parse_locality)\n",
        "df['locality'].value_counts()"
      ]
    },
    {
      "cell_type": "code",
      "execution_count": 72,
      "metadata": {
        "colab": {
          "base_uri": "https://localhost:8080/"
        },
        "id": "l7EgMgsIj7x8",
        "outputId": "6ac0b014-d6d6-4ac3-8bc3-6857a3669b29"
      },
      "outputs": [
        {
          "output_type": "execute_result",
          "data": {
            "text/plain": [
              "array(['Kumasi Metropolitan', 'East Legon', 'Dzorwulu', 'Ashaley Botwe',\n",
              "       'Teshie', 'Spintex', 'Agbogba', 'Adenta', 'Oyarifa', 'Cantonments',\n",
              "       'Adjiriganor', 'Haatso', 'Ashaiman Municipal',\n",
              "       'Accra Metropolitan', 'Nungua', 'Ablekuma', 'Weija', 'Dome',\n",
              "       'Burma Camp', 'Ashomang Estate', 'Ga West Municipal',\n",
              "       'Taifa-Burkina', 'Osu', 'Tema Metropolitan',\n",
              "       'Airport Residential Area', 'Kaneshie', 'Ga South Municipal',\n",
              "       'Labone', 'West Legon', 'Roman Ridge', 'Madina', 'Tesano', 'Kasoa',\n",
              "       'North Legon', 'New-Juaben Municipal', 'Dansoman', 'Abokobi',\n",
              "       'Tantra Hills', 'Ofankor', 'Old Ashomang', 'Kotobabi', 'Achimota',\n",
              "       'Ga East Municipal', 'Awutu Senya East Municipal', 'Odorkor',\n",
              "       'Darkuman', 'Pokuase', 'Lapaz', 'Ledzokuku-Krowor', 'Kokomlemle',\n",
              "       'Santa Maria', 'Ridge', 'Dworwulu', 'Atwima Nwabiagya',\n",
              "       'Tamale Municipal', 'Oyibi', 'Kwashieman', 'Takoradi',\n",
              "       'Awutu Senya West', 'Labadi', 'Sunyani West', 'Sowutwuom',\n",
              "       'Abelemkpe', 'Awoshie', 'Dodowa', 'Effutu Municipal',\n",
              "       'Lartebiokoshie', 'Mamprobi', 'Shama Ahanta East Metropolitan',\n",
              "       'Gbawe', 'McCarthy Hill', 'Akuapim North', 'Danfa',\n",
              "       'Ningo-Prampram', 'Atwima Kwanwoma', 'Obuasi Municipal', 'Kwabre',\n",
              "       'Ejisu-Juaben Municipal', 'Ayensuano', 'Sunyani Municipal',\n",
              "       'Keta Municipal', 'Afigya-Kwabre', 'Mamobi', 'Anyaa',\n",
              "       'Akuapim South', 'Mampong Municipal', 'South La', 'Gomoa East',\n",
              "       'Bubuashie', 'South Shiashie', 'Nima', 'North Industrial Area',\n",
              "       'Tarkwa Nsuaem', 'Alajo', 'Mataheko', 'Asylum Down', 'Banana Inn',\n",
              "       'Adabraka', 'Cape Coast Metropolitan', 'Ho Municipal', 'Bosomtwe',\n",
              "       'East Akim Municipal', 'Asokore Mampong Municipal', 'Circle',\n",
              "       'Abofu', 'Nii Boi Town', 'Ekumfi', 'Asuogyaman', 'Hohoe Municipal',\n",
              "       'Wassa West', 'Ahanta West', 'Savelugu-Nanton',\n",
              "       'Mfantsiman Municipal', 'Berekum Municipal', 'Abossey Okai',\n",
              "       'Lower Manya Krobo', 'Little Legon', 'Okponglo', 'Lartebiokorshie',\n",
              "       'Agona East', 'Apenkwa', 'Bekwai Municipal', nan, 'Suhum',\n",
              "       'Nkoranza South', 'Akyemansa', 'Akweteyman', 'West Akim Municipal',\n",
              "       'Kintampo North Municipal', 'South Dayi', 'Amansie West',\n",
              "       'Accra New Town'], dtype=object)"
            ]
          },
          "metadata": {},
          "execution_count": 72
        }
      ],
      "source": [
        "df['locality'].unique()"
      ]
    },
    {
      "cell_type": "markdown",
      "metadata": {
        "id": "tK1tSlO3ljzD"
      },
      "source": [
        "## Amenities\n",
        "\n",
        "Convert list to strings"
      ]
    },
    {
      "cell_type": "code",
      "execution_count": 73,
      "metadata": {
        "colab": {
          "base_uri": "https://localhost:8080/",
          "height": 398
        },
        "id": "UJShJOj5llEf",
        "outputId": "94ad4f19-4e34-4423-d463-cb9cdce217dd"
      },
      "outputs": [
        {
          "output_type": "execute_result",
          "data": {
            "text/plain": [
              "0                                                 None\n",
              "1    [24-hour Electricity, Air Conditioning, Balcon...\n",
              "2    [24-hour Electricity, Air Conditioning, Apartm...\n",
              "3    [Tiled Floor, Chandelier, Dining Area, Balcony...\n",
              "4                                                 None\n",
              "5                                                 None\n",
              "6    [Pop Ceiling, Pre-Paid Meter, 24-hour Electric...\n",
              "7    [Pre-Paid Meter, Dining Area, Chandelier, Balc...\n",
              "8    [24-hour Electricity, Air Conditioning, Apartm...\n",
              "9    [24-hour Electricity, Apartment, Balcony, Kitc...\n",
              "Name: amenities, dtype: object"
            ],
            "text/html": [
              "<div>\n",
              "<style scoped>\n",
              "    .dataframe tbody tr th:only-of-type {\n",
              "        vertical-align: middle;\n",
              "    }\n",
              "\n",
              "    .dataframe tbody tr th {\n",
              "        vertical-align: top;\n",
              "    }\n",
              "\n",
              "    .dataframe thead th {\n",
              "        text-align: right;\n",
              "    }\n",
              "</style>\n",
              "<table border=\"1\" class=\"dataframe\">\n",
              "  <thead>\n",
              "    <tr style=\"text-align: right;\">\n",
              "      <th></th>\n",
              "      <th>amenities</th>\n",
              "    </tr>\n",
              "  </thead>\n",
              "  <tbody>\n",
              "    <tr>\n",
              "      <th>0</th>\n",
              "      <td>None</td>\n",
              "    </tr>\n",
              "    <tr>\n",
              "      <th>1</th>\n",
              "      <td>[24-hour Electricity, Air Conditioning, Balcon...</td>\n",
              "    </tr>\n",
              "    <tr>\n",
              "      <th>2</th>\n",
              "      <td>[24-hour Electricity, Air Conditioning, Apartm...</td>\n",
              "    </tr>\n",
              "    <tr>\n",
              "      <th>3</th>\n",
              "      <td>[Tiled Floor, Chandelier, Dining Area, Balcony...</td>\n",
              "    </tr>\n",
              "    <tr>\n",
              "      <th>4</th>\n",
              "      <td>None</td>\n",
              "    </tr>\n",
              "    <tr>\n",
              "      <th>5</th>\n",
              "      <td>None</td>\n",
              "    </tr>\n",
              "    <tr>\n",
              "      <th>6</th>\n",
              "      <td>[Pop Ceiling, Pre-Paid Meter, 24-hour Electric...</td>\n",
              "    </tr>\n",
              "    <tr>\n",
              "      <th>7</th>\n",
              "      <td>[Pre-Paid Meter, Dining Area, Chandelier, Balc...</td>\n",
              "    </tr>\n",
              "    <tr>\n",
              "      <th>8</th>\n",
              "      <td>[24-hour Electricity, Air Conditioning, Apartm...</td>\n",
              "    </tr>\n",
              "    <tr>\n",
              "      <th>9</th>\n",
              "      <td>[24-hour Electricity, Apartment, Balcony, Kitc...</td>\n",
              "    </tr>\n",
              "  </tbody>\n",
              "</table>\n",
              "</div><br><label><b>dtype:</b> object</label>"
            ]
          },
          "metadata": {},
          "execution_count": 73
        }
      ],
      "source": [
        "df['amenities'].head(10)"
      ]
    },
    {
      "cell_type": "code",
      "execution_count": 74,
      "metadata": {
        "id": "Tf_LpudglmxH"
      },
      "outputs": [],
      "source": [
        "df['amenities'] = df['amenities'].map(lambda x: \",\".join(x) if isinstance(x, list) else x)"
      ]
    },
    {
      "cell_type": "code",
      "execution_count": 76,
      "metadata": {
        "colab": {
          "base_uri": "https://localhost:8080/",
          "height": 241
        },
        "id": "33_zixA6lqG_",
        "outputId": "3c99e873-e864-4437-edf4-7c92451187ed"
      },
      "outputs": [
        {
          "output_type": "execute_result",
          "data": {
            "text/plain": [
              "0                                                 None\n",
              "1    24-hour Electricity,Air Conditioning,Balcony,C...\n",
              "2    24-hour Electricity,Air Conditioning,Apartment...\n",
              "3    Tiled Floor,Chandelier,Dining Area,Balcony,Pop...\n",
              "4                                                 None\n",
              "Name: amenities, dtype: object"
            ],
            "text/html": [
              "<div>\n",
              "<style scoped>\n",
              "    .dataframe tbody tr th:only-of-type {\n",
              "        vertical-align: middle;\n",
              "    }\n",
              "\n",
              "    .dataframe tbody tr th {\n",
              "        vertical-align: top;\n",
              "    }\n",
              "\n",
              "    .dataframe thead th {\n",
              "        text-align: right;\n",
              "    }\n",
              "</style>\n",
              "<table border=\"1\" class=\"dataframe\">\n",
              "  <thead>\n",
              "    <tr style=\"text-align: right;\">\n",
              "      <th></th>\n",
              "      <th>amenities</th>\n",
              "    </tr>\n",
              "  </thead>\n",
              "  <tbody>\n",
              "    <tr>\n",
              "      <th>0</th>\n",
              "      <td>None</td>\n",
              "    </tr>\n",
              "    <tr>\n",
              "      <th>1</th>\n",
              "      <td>24-hour Electricity,Air Conditioning,Balcony,C...</td>\n",
              "    </tr>\n",
              "    <tr>\n",
              "      <th>2</th>\n",
              "      <td>24-hour Electricity,Air Conditioning,Apartment...</td>\n",
              "    </tr>\n",
              "    <tr>\n",
              "      <th>3</th>\n",
              "      <td>Tiled Floor,Chandelier,Dining Area,Balcony,Pop...</td>\n",
              "    </tr>\n",
              "    <tr>\n",
              "      <th>4</th>\n",
              "      <td>None</td>\n",
              "    </tr>\n",
              "  </tbody>\n",
              "</table>\n",
              "</div><br><label><b>dtype:</b> object</label>"
            ]
          },
          "metadata": {},
          "execution_count": 76
        }
      ],
      "source": [
        "df['amenities'].head()"
      ]
    },
    {
      "cell_type": "markdown",
      "metadata": {
        "id": "Qm03Xuw0nIRx"
      },
      "source": [
        "## Parking space"
      ]
    },
    {
      "cell_type": "code",
      "execution_count": 77,
      "metadata": {
        "colab": {
          "base_uri": "https://localhost:8080/",
          "height": 178
        },
        "id": "h-yRoY9hnHjv",
        "outputId": "457a2254-a933-477d-c32d-6a48176bcaad"
      },
      "outputs": [
        {
          "output_type": "execute_result",
          "data": {
            "text/plain": [
              "parking_space\n",
              "False    26736\n",
              "True      6923\n",
              "Name: count, dtype: int64"
            ],
            "text/html": [
              "<div>\n",
              "<style scoped>\n",
              "    .dataframe tbody tr th:only-of-type {\n",
              "        vertical-align: middle;\n",
              "    }\n",
              "\n",
              "    .dataframe tbody tr th {\n",
              "        vertical-align: top;\n",
              "    }\n",
              "\n",
              "    .dataframe thead th {\n",
              "        text-align: right;\n",
              "    }\n",
              "</style>\n",
              "<table border=\"1\" class=\"dataframe\">\n",
              "  <thead>\n",
              "    <tr style=\"text-align: right;\">\n",
              "      <th></th>\n",
              "      <th>count</th>\n",
              "    </tr>\n",
              "    <tr>\n",
              "      <th>parking_space</th>\n",
              "      <th></th>\n",
              "    </tr>\n",
              "  </thead>\n",
              "  <tbody>\n",
              "    <tr>\n",
              "      <th>False</th>\n",
              "      <td>26736</td>\n",
              "    </tr>\n",
              "    <tr>\n",
              "      <th>True</th>\n",
              "      <td>6923</td>\n",
              "    </tr>\n",
              "  </tbody>\n",
              "</table>\n",
              "</div><br><label><b>dtype:</b> int64</label>"
            ]
          },
          "metadata": {},
          "execution_count": 77
        }
      ],
      "source": [
        "df.parking_space.value_counts()"
      ]
    },
    {
      "cell_type": "markdown",
      "metadata": {
        "id": "FS6hbR6knSo1"
      },
      "source": [
        "## Furnished state"
      ]
    },
    {
      "cell_type": "code",
      "execution_count": 78,
      "metadata": {
        "colab": {
          "base_uri": "https://localhost:8080/",
          "height": 210
        },
        "id": "zkc8G0qYnLtV",
        "outputId": "45993aca-149f-4603-96b4-6a24d908a9a1"
      },
      "outputs": [
        {
          "output_type": "execute_result",
          "data": {
            "text/plain": [
              "is_furnished\n",
              "Unfurnished       20834\n",
              "Semi-Furnished     8915\n",
              "Furnished          3863\n",
              "Name: count, dtype: int64"
            ],
            "text/html": [
              "<div>\n",
              "<style scoped>\n",
              "    .dataframe tbody tr th:only-of-type {\n",
              "        vertical-align: middle;\n",
              "    }\n",
              "\n",
              "    .dataframe tbody tr th {\n",
              "        vertical-align: top;\n",
              "    }\n",
              "\n",
              "    .dataframe thead th {\n",
              "        text-align: right;\n",
              "    }\n",
              "</style>\n",
              "<table border=\"1\" class=\"dataframe\">\n",
              "  <thead>\n",
              "    <tr style=\"text-align: right;\">\n",
              "      <th></th>\n",
              "      <th>count</th>\n",
              "    </tr>\n",
              "    <tr>\n",
              "      <th>is_furnished</th>\n",
              "      <th></th>\n",
              "    </tr>\n",
              "  </thead>\n",
              "  <tbody>\n",
              "    <tr>\n",
              "      <th>Unfurnished</th>\n",
              "      <td>20834</td>\n",
              "    </tr>\n",
              "    <tr>\n",
              "      <th>Semi-Furnished</th>\n",
              "      <td>8915</td>\n",
              "    </tr>\n",
              "    <tr>\n",
              "      <th>Furnished</th>\n",
              "      <td>3863</td>\n",
              "    </tr>\n",
              "  </tbody>\n",
              "</table>\n",
              "</div><br><label><b>dtype:</b> int64</label>"
            ]
          },
          "metadata": {},
          "execution_count": 78
        }
      ],
      "source": [
        "df.is_furnished.value_counts()"
      ]
    },
    {
      "cell_type": "markdown",
      "metadata": {
        "id": "94bwrvNpmgHi"
      },
      "source": [
        "## Drop null and duplicates"
      ]
    },
    {
      "cell_type": "code",
      "execution_count": 79,
      "metadata": {
        "colab": {
          "base_uri": "https://localhost:8080/"
        },
        "id": "DTnrwiNkmTZF",
        "outputId": "43bb0256-6a91-4a26-e73f-156fb095cd94"
      },
      "outputs": [
        {
          "output_type": "execute_result",
          "data": {
            "text/plain": [
              "['source',\n",
              " 'url',\n",
              " 'listing_type',\n",
              " 'crawled_date',\n",
              " 'timestamp',\n",
              " 'name',\n",
              " 'price',\n",
              " 'currency',\n",
              " 'location',\n",
              " 'category',\n",
              " 'bedrooms',\n",
              " 'bathrooms',\n",
              " 'toilets',\n",
              " 'parking_space',\n",
              " 'address',\n",
              " 'estate_name',\n",
              " 'condition',\n",
              " 'is_furnished',\n",
              " 'floor_area',\n",
              " 'agent',\n",
              " 'image_urls',\n",
              " 'amenities',\n",
              " 'pets',\n",
              " 'agency_fee',\n",
              " 'caution_fee',\n",
              " 'service_charge',\n",
              " 'agent_fee',\n",
              " 'legal_fee',\n",
              " 'region',\n",
              " 'locality']"
            ]
          },
          "metadata": {},
          "execution_count": 79
        }
      ],
      "source": [
        "df.columns.tolist()"
      ]
    },
    {
      "cell_type": "code",
      "execution_count": 80,
      "metadata": {
        "id": "h_VwZDaWm6zS"
      },
      "outputs": [],
      "source": [
        "required_cols = [\n",
        "    'url',\n",
        "    'listing_type',\n",
        "    'name',\n",
        "    'price',\n",
        "    'category',\n",
        "    'bedrooms',\n",
        "    'bathrooms',\n",
        "    'floor_area',\n",
        "    'location',\n",
        "    'condition',\n",
        "    'amenities',\n",
        "]\n",
        "selected_cols = [\n",
        "    'region',\n",
        "    'locality',\n",
        "    'parking_space',\n",
        "    'is_furnished',\n",
        "]"
      ]
    },
    {
      "cell_type": "code",
      "execution_count": 81,
      "metadata": {
        "id": "Yf_K5gOnugy5"
      },
      "outputs": [],
      "source": [
        "df = df.dropna(subset=required_cols)\n",
        "df = df.drop_duplicates(subset=['url'])"
      ]
    },
    {
      "cell_type": "code",
      "execution_count": 82,
      "metadata": {
        "colab": {
          "base_uri": "https://localhost:8080/"
        },
        "id": "Qyox-5ncmlRc",
        "outputId": "d27eae9d-7783-4232-8584-26f164bcd3bb"
      },
      "outputs": [
        {
          "output_type": "stream",
          "name": "stdout",
          "text": [
            "<class 'pandas.core.frame.DataFrame'>\n",
            "Index: 28154 entries, 1 to 33658\n",
            "Data columns (total 30 columns):\n",
            " #   Column          Non-Null Count  Dtype         \n",
            "---  ------          --------------  -----         \n",
            " 0   source          28154 non-null  object        \n",
            " 1   url             28154 non-null  object        \n",
            " 2   listing_type    28154 non-null  object        \n",
            " 3   crawled_date    28154 non-null  object        \n",
            " 4   timestamp       28154 non-null  datetime64[ns]\n",
            " 5   name            28154 non-null  object        \n",
            " 6   price           28154 non-null  int64         \n",
            " 7   currency        28154 non-null  object        \n",
            " 8   location        28154 non-null  object        \n",
            " 9   category        28154 non-null  object        \n",
            " 10  bedrooms        28154 non-null  float64       \n",
            " 11  bathrooms       28154 non-null  float64       \n",
            " 12  toilets         14689 non-null  float64       \n",
            " 13  parking_space   28154 non-null  bool          \n",
            " 14  address         28138 non-null  object        \n",
            " 15  estate_name     23095 non-null  object        \n",
            " 16  condition       28154 non-null  object        \n",
            " 17  is_furnished    28154 non-null  object        \n",
            " 18  floor_area      28154 non-null  float64       \n",
            " 19  agent           28154 non-null  object        \n",
            " 20  image_urls      28154 non-null  object        \n",
            " 21  amenities       28154 non-null  object        \n",
            " 22  pets            1583 non-null   object        \n",
            " 23  agency_fee      9033 non-null   float64       \n",
            " 24  caution_fee     3479 non-null   float64       \n",
            " 25  service_charge  435 non-null    float64       \n",
            " 26  agent_fee       3368 non-null   float64       \n",
            " 27  legal_fee       182 non-null    float64       \n",
            " 28  region          28154 non-null  object        \n",
            " 29  locality        28152 non-null  object        \n",
            "dtypes: bool(1), datetime64[ns](1), float64(9), int64(1), object(18)\n",
            "memory usage: 6.5+ MB\n"
          ]
        }
      ],
      "source": [
        "df.info()"
      ]
    },
    {
      "cell_type": "code",
      "execution_count": 83,
      "metadata": {
        "id": "lBHMdnJbvSz3"
      },
      "outputs": [],
      "source": [
        "df = df[required_cols + selected_cols]"
      ]
    },
    {
      "cell_type": "code",
      "execution_count": 84,
      "metadata": {
        "colab": {
          "base_uri": "https://localhost:8080/"
        },
        "id": "chtM1IwrvhrZ",
        "outputId": "60b345c1-cdb2-4535-f7c1-8fd2e99f1fef"
      },
      "outputs": [
        {
          "output_type": "stream",
          "name": "stdout",
          "text": [
            "<class 'pandas.core.frame.DataFrame'>\n",
            "Index: 28154 entries, 1 to 33658\n",
            "Data columns (total 15 columns):\n",
            " #   Column         Non-Null Count  Dtype  \n",
            "---  ------         --------------  -----  \n",
            " 0   url            28154 non-null  object \n",
            " 1   listing_type   28154 non-null  object \n",
            " 2   name           28154 non-null  object \n",
            " 3   price          28154 non-null  int64  \n",
            " 4   category       28154 non-null  object \n",
            " 5   bedrooms       28154 non-null  float64\n",
            " 6   bathrooms      28154 non-null  float64\n",
            " 7   floor_area     28154 non-null  float64\n",
            " 8   location       28154 non-null  object \n",
            " 9   condition      28154 non-null  object \n",
            " 10  amenities      28154 non-null  object \n",
            " 11  region         28154 non-null  object \n",
            " 12  locality       28152 non-null  object \n",
            " 13  parking_space  28154 non-null  bool   \n",
            " 14  is_furnished   28154 non-null  object \n",
            "dtypes: bool(1), float64(3), int64(1), object(10)\n",
            "memory usage: 3.2+ MB\n"
          ]
        }
      ],
      "source": [
        "df.info()"
      ]
    },
    {
      "cell_type": "markdown",
      "metadata": {
        "id": "iM1zhOFE5LQS"
      },
      "source": [
        "## Geocoding"
      ]
    },
    {
      "cell_type": "code",
      "execution_count": 85,
      "metadata": {
        "id": "ppQBE2pvAoDN"
      },
      "outputs": [],
      "source": [
        "!cp /content/drive/My\\ Drive/Datasets/geo_codes_cache.json ."
      ]
    },
    {
      "cell_type": "code",
      "execution_count": 86,
      "metadata": {
        "id": "j2Gzg-Pt5KKG"
      },
      "outputs": [],
      "source": [
        "import googlemaps\n",
        "from datetime import datetime\n",
        "from google.colab import userdata\n",
        "\n",
        "gmaps = googlemaps.Client(key=userdata.get('GOOGLE_MAPS_KEY'))"
      ]
    },
    {
      "cell_type": "code",
      "execution_count": 87,
      "metadata": {
        "id": "Ca0bTCdw8vpx"
      },
      "outputs": [],
      "source": [
        "with open(\"geo_codes_cache.json\", \"r\") as f:\n",
        "    geo_codes_cache = json.load(f)"
      ]
    },
    {
      "cell_type": "code",
      "execution_count": 88,
      "metadata": {
        "id": "qvR3rClj5KmL"
      },
      "outputs": [],
      "source": [
        "from pprint import pprint\n",
        "geocode_result = geo_codes_cache['greater accra, awoshie, awoshie last stop']"
      ]
    },
    {
      "cell_type": "code",
      "execution_count": 89,
      "metadata": {
        "colab": {
          "base_uri": "https://localhost:8080/"
        },
        "id": "fXWsH8QE6KbG",
        "outputId": "bc98921a-bf72-4557-8128-deecbc91ef8c"
      },
      "outputs": [
        {
          "output_type": "execute_result",
          "data": {
            "text/plain": [
              "{'lat': 5.591910599999999, 'lng': -0.2876696}"
            ]
          },
          "metadata": {},
          "execution_count": 89
        }
      ],
      "source": [
        "geocode_result[0]['geometry']['location']"
      ]
    },
    {
      "cell_type": "code",
      "execution_count": 91,
      "metadata": {
        "id": "tBugd3g06Ks8"
      },
      "outputs": [],
      "source": [
        "# create new columns lat and lng based on the geocode_result using the location column to get the results\n",
        "def get_lat_lng(location):\n",
        "    \"\"\"Retrieves latitude and longitude from a location string using Google Maps Geocoding API.\"\"\"\n",
        "    geocode_result = []\n",
        "    lower_location = location.lower()\n",
        "    if lower_location in geo_codes_cache:\n",
        "        geocode_result = geo_codes_cache[lower_location]\n",
        "    else:\n",
        "        try:\n",
        "            geocode_result = gmaps.geocode(location, region=\"gh\")\n",
        "        except Exception as e:\n",
        "            print(f\"Error geocoding {location}: {e}\")\n",
        "\n",
        "    if not geocode_result:\n",
        "        return (None, None)\n",
        "\n",
        "\n",
        "    lat = geocode_result[0]['geometry']['location']['lat']\n",
        "    lng = geocode_result[0]['geometry']['location']['lng']\n",
        "\n",
        "    geo_codes_cache[lower_location] = geocode_result\n",
        "\n",
        "    return (lat, lng)"
      ]
    },
    {
      "cell_type": "code",
      "execution_count": 92,
      "metadata": {
        "colab": {
          "base_uri": "https://localhost:8080/"
        },
        "id": "JnsphMDi8OTR",
        "outputId": "154e2cde-9119-4e5b-e449-6772d0d240d3"
      },
      "outputs": [
        {
          "output_type": "execute_result",
          "data": {
            "text/plain": [
              "(5.591910599999999, -0.2876696)"
            ]
          },
          "metadata": {},
          "execution_count": 92
        }
      ],
      "source": [
        "get_lat_lng('Greater Accra, Awoshie, Awoshie Last Stop')"
      ]
    },
    {
      "cell_type": "code",
      "execution_count": 93,
      "metadata": {
        "id": "VV-l41PV6K21"
      },
      "outputs": [],
      "source": [
        "# Apply the function to the 'location' column to get latitude and longitude\n",
        "df[['lat', 'lng']] = df['location'].apply(lambda x: pd.Series(get_lat_lng(x)))"
      ]
    },
    {
      "cell_type": "code",
      "execution_count": 94,
      "metadata": {
        "id": "kMzbuRwC8aqa"
      },
      "outputs": [],
      "source": [
        "import json\n",
        "with open(\"geo_codes_cache.json\", \"w\") as f:\n",
        "    json.dump(geo_codes_cache, f)"
      ]
    },
    {
      "cell_type": "code",
      "execution_count": 95,
      "metadata": {
        "colab": {
          "base_uri": "https://localhost:8080/"
        },
        "id": "hmFfHrEPAij5",
        "outputId": "d2e44867-afae-4d2d-9763-f16edc71b5c6"
      },
      "outputs": [
        {
          "output_type": "execute_result",
          "data": {
            "text/plain": [
              "344"
            ]
          },
          "metadata": {},
          "execution_count": 95
        }
      ],
      "source": [
        "len(geo_codes_cache)"
      ]
    },
    {
      "cell_type": "code",
      "execution_count": 96,
      "metadata": {
        "id": "uSPfON2s8a05"
      },
      "outputs": [],
      "source": [
        "!cp geo_codes_cache.json /content/drive/My\\ Drive/Datasets/"
      ]
    },
    {
      "cell_type": "code",
      "execution_count": 97,
      "metadata": {
        "colab": {
          "base_uri": "https://localhost:8080/"
        },
        "id": "cg_450R7Ac8m",
        "outputId": "c7d46d37-7ae8-4039-942f-0c8a0c57cc8e"
      },
      "outputs": [
        {
          "output_type": "stream",
          "name": "stdout",
          "text": [
            "<class 'pandas.core.frame.DataFrame'>\n",
            "Index: 28154 entries, 1 to 33658\n",
            "Data columns (total 17 columns):\n",
            " #   Column         Non-Null Count  Dtype  \n",
            "---  ------         --------------  -----  \n",
            " 0   url            28154 non-null  object \n",
            " 1   listing_type   28154 non-null  object \n",
            " 2   name           28154 non-null  object \n",
            " 3   price          28154 non-null  int64  \n",
            " 4   category       28154 non-null  object \n",
            " 5   bedrooms       28154 non-null  float64\n",
            " 6   bathrooms      28154 non-null  float64\n",
            " 7   floor_area     28154 non-null  float64\n",
            " 8   location       28154 non-null  object \n",
            " 9   condition      28154 non-null  object \n",
            " 10  amenities      28154 non-null  object \n",
            " 11  region         28154 non-null  object \n",
            " 12  locality       28152 non-null  object \n",
            " 13  parking_space  28154 non-null  bool   \n",
            " 14  is_furnished   28154 non-null  object \n",
            " 15  lat            28154 non-null  float64\n",
            " 16  lng            28154 non-null  float64\n",
            "dtypes: bool(1), float64(5), int64(1), object(10)\n",
            "memory usage: 3.7+ MB\n"
          ]
        }
      ],
      "source": [
        "df.info()"
      ]
    },
    {
      "cell_type": "markdown",
      "metadata": {
        "id": "KLfKQYxVqLBp"
      },
      "source": [
        "## Remove outliers"
      ]
    },
    {
      "cell_type": "code",
      "execution_count": 98,
      "metadata": {
        "id": "PhODgXB_qNtI"
      },
      "outputs": [],
      "source": [
        "## Customize Matplotlib Parameters\n",
        "%matplotlib inline\n",
        "mpl.rcParams['figure.dpi']= 150\n",
        "mpl.rcParams['figure.edgecolor']= 'black'\n",
        "mpl.rcParams['axes.linewidth']= .5\n",
        "# Customize Seaborn Parameters\n",
        "sns.set()\n",
        "rc = {\n",
        "      'font.family': ['serif'],\n",
        "      'font.serif':'Times New Roman',\n",
        "      'grid.color': 'gainsboro',\n",
        "      'grid.linestyle': '-',\n",
        "}\n",
        "sns.set_style(rc=rc)\n",
        "sns.set_context(\"notebook\", font_scale=0.8)"
      ]
    },
    {
      "cell_type": "code",
      "execution_count": 99,
      "metadata": {
        "id": "JAoVX7wdqNwr"
      },
      "outputs": [],
      "source": [
        "def plot_price(df, cutoff=5000, l1=12, l2=17):\n",
        "    plt.figure(num=1, figsize=(20,10), linewidth=1)\n",
        "    # plot distribution of price\n",
        "    plt.subplot2grid((2, 3), (0, 0))\n",
        "    sns.distplot(df['price'])\n",
        "    # plot distribution of log(1+price)\n",
        "    plt.subplot2grid((2, 3), (0, 1))\n",
        "    sns.distplot(np.log1p(df['price']))\n",
        "    plt.axvline(x=l1, color='b', linestyle=':')\n",
        "    plt.axvline(x=l2, color='b', linestyle=':')\n",
        "    plt.xlabel('log(1+price)')\n",
        "    ## plot qqplot of distribution of log(1+price)\n",
        "    ax = plt.subplot2grid((2, 3), (0, 2))\n",
        "    sm.qqplot(np.log1p(df['price']), stats.norm, fit=True, line='45', ax=ax);\n",
        "\n",
        "    # boxplot of price column\n",
        "    plt.subplot2grid((2, 3), (1, 0), colspan=3)\n",
        "    red = dict(markerfacecolor='r', markeredgecolor='r', marker='.')\n",
        "    df.price.plot(kind='box', xlim=(0, cutoff), vert=False, flierprops=red)\n",
        "\n",
        "    plt.tight_layout()"
      ]
    },
    {
      "cell_type": "code",
      "execution_count": 100,
      "metadata": {
        "colab": {
          "base_uri": "https://localhost:8080/",
          "height": 178
        },
        "id": "5_5Lb7NSzuSo",
        "outputId": "4debf648-3cb8-4197-bf60-6057055597dd"
      },
      "outputs": [
        {
          "output_type": "execute_result",
          "data": {
            "text/plain": [
              "listing_type\n",
              "rentals    18525\n",
              "sale        9629\n",
              "Name: count, dtype: int64"
            ],
            "text/html": [
              "<div>\n",
              "<style scoped>\n",
              "    .dataframe tbody tr th:only-of-type {\n",
              "        vertical-align: middle;\n",
              "    }\n",
              "\n",
              "    .dataframe tbody tr th {\n",
              "        vertical-align: top;\n",
              "    }\n",
              "\n",
              "    .dataframe thead th {\n",
              "        text-align: right;\n",
              "    }\n",
              "</style>\n",
              "<table border=\"1\" class=\"dataframe\">\n",
              "  <thead>\n",
              "    <tr style=\"text-align: right;\">\n",
              "      <th></th>\n",
              "      <th>count</th>\n",
              "    </tr>\n",
              "    <tr>\n",
              "      <th>listing_type</th>\n",
              "      <th></th>\n",
              "    </tr>\n",
              "  </thead>\n",
              "  <tbody>\n",
              "    <tr>\n",
              "      <th>rentals</th>\n",
              "      <td>18525</td>\n",
              "    </tr>\n",
              "    <tr>\n",
              "      <th>sale</th>\n",
              "      <td>9629</td>\n",
              "    </tr>\n",
              "  </tbody>\n",
              "</table>\n",
              "</div><br><label><b>dtype:</b> int64</label>"
            ]
          },
          "metadata": {},
          "execution_count": 100
        }
      ],
      "source": [
        "df['listing_type'].value_counts()"
      ]
    },
    {
      "cell_type": "code",
      "execution_count": 101,
      "metadata": {
        "id": "fUgffIHYzqYJ"
      },
      "outputs": [],
      "source": [
        "rental_df = df[df['listing_type'] == 'rentals'].reset_index(drop=True)\n",
        "sale_df = df[df['listing_type'] == 'sale'].reset_index(drop=True)"
      ]
    },
    {
      "cell_type": "markdown",
      "metadata": {
        "id": "nopoyKX40fDK"
      },
      "source": [
        "## Rentals"
      ]
    },
    {
      "cell_type": "code",
      "execution_count": 102,
      "metadata": {
        "colab": {
          "base_uri": "https://localhost:8080/"
        },
        "id": "9DsOHkwuBSMa",
        "outputId": "dcb4bcde-5428-49c1-8901-be3b4e6fd089"
      },
      "outputs": [
        {
          "output_type": "stream",
          "name": "stdout",
          "text": [
            "<class 'pandas.core.frame.DataFrame'>\n",
            "RangeIndex: 18525 entries, 0 to 18524\n",
            "Data columns (total 17 columns):\n",
            " #   Column         Non-Null Count  Dtype  \n",
            "---  ------         --------------  -----  \n",
            " 0   url            18525 non-null  object \n",
            " 1   listing_type   18525 non-null  object \n",
            " 2   name           18525 non-null  object \n",
            " 3   price          18525 non-null  int64  \n",
            " 4   category       18525 non-null  object \n",
            " 5   bedrooms       18525 non-null  float64\n",
            " 6   bathrooms      18525 non-null  float64\n",
            " 7   floor_area     18525 non-null  float64\n",
            " 8   location       18525 non-null  object \n",
            " 9   condition      18525 non-null  object \n",
            " 10  amenities      18525 non-null  object \n",
            " 11  region         18525 non-null  object \n",
            " 12  locality       18525 non-null  object \n",
            " 13  parking_space  18525 non-null  bool   \n",
            " 14  is_furnished   18525 non-null  object \n",
            " 15  lat            18525 non-null  float64\n",
            " 16  lng            18525 non-null  float64\n",
            "dtypes: bool(1), float64(5), int64(1), object(10)\n",
            "memory usage: 2.3+ MB\n"
          ]
        }
      ],
      "source": [
        "rental_df.info()"
      ]
    },
    {
      "cell_type": "code",
      "execution_count": 103,
      "metadata": {
        "colab": {
          "base_uri": "https://localhost:8080/",
          "height": 847
        },
        "id": "A08DSuZgqN0U",
        "outputId": "c7aef53f-16ca-4df0-96c3-86a67a8fce4f"
      },
      "outputs": [
        {
          "output_type": "display_data",
          "data": {
            "text/plain": [
              "<Figure size 3000x1500 with 4 Axes>"
            ],
            "image/png": "[encoded data removed]"
          },
          "metadata": {}
        }
      ],
      "source": [
        "l1 = 6\n",
        "l2 = 11\n",
        "plot_price(rental_df, cutoff=100_000, l1=l1, l2=l2)"
      ]
    },
    {
      "cell_type": "code",
      "execution_count": 104,
      "metadata": {
        "colab": {
          "base_uri": "https://localhost:8080/"
        },
        "id": "e9Fh16k0qN4z",
        "outputId": "014633bf-0b18-4c1c-b544-858717b92c38"
      },
      "outputs": [
        {
          "output_type": "stream",
          "name": "stdout",
          "text": [
            "Number of listings which are assumed as outliers: 635\n",
            "\n",
            "Outlier range: prices below 402.4287934927351 and above 59873.14171519782\n"
          ]
        }
      ],
      "source": [
        "# inverse of log transformed prices\n",
        "outliers = rental_df[(np.log1p(rental_df['price']) < l1) | (np.log1p(rental_df['price']) > l2)]\n",
        "print(f'Number of listings which are assumed as outliers: {len(outliers)}\\n')\n",
        "print(f'Outlier range: prices below {np.exp(l1) - 1} and above {np.exp(l2) - 1}')"
      ]
    },
    {
      "cell_type": "code",
      "execution_count": 105,
      "metadata": {
        "colab": {
          "base_uri": "https://localhost:8080/",
          "height": 832
        },
        "id": "IaZSHvZEqiiD",
        "outputId": "66135c96-45d3-47f5-8d8d-6d94cd5c8861"
      },
      "outputs": [
        {
          "output_type": "display_data",
          "data": {
            "text/plain": [
              "<Figure size 1200x900 with 1 Axes>"
            ],
            "image/png": "[encoded data removed]"
          },
          "metadata": {}
        }
      ],
      "source": [
        "# plot price distribution of prices after removing outliers\n",
        "plt.figure(num=1, figsize=(8,6), linewidth=1)\n",
        "rental_df = rental_df.drop(index=outliers.index)\n",
        "sns.distplot(rental_df.price)\n",
        "\n",
        "_= plt.title('Rental Price distribution of Listings')"
      ]
    },
    {
      "cell_type": "code",
      "execution_count": 106,
      "metadata": {
        "colab": {
          "base_uri": "https://localhost:8080/"
        },
        "id": "CJCrlCFk1YgV",
        "outputId": "ec915fa2-4e9d-4a76-f3bb-4bb9ca57f77a"
      },
      "outputs": [
        {
          "output_type": "stream",
          "name": "stdout",
          "text": [
            "<class 'pandas.core.frame.DataFrame'>\n",
            "Index: 17890 entries, 0 to 18524\n",
            "Data columns (total 17 columns):\n",
            " #   Column         Non-Null Count  Dtype  \n",
            "---  ------         --------------  -----  \n",
            " 0   url            17890 non-null  object \n",
            " 1   listing_type   17890 non-null  object \n",
            " 2   name           17890 non-null  object \n",
            " 3   price          17890 non-null  int64  \n",
            " 4   category       17890 non-null  object \n",
            " 5   bedrooms       17890 non-null  float64\n",
            " 6   bathrooms      17890 non-null  float64\n",
            " 7   floor_area     17890 non-null  float64\n",
            " 8   location       17890 non-null  object \n",
            " 9   condition      17890 non-null  object \n",
            " 10  amenities      17890 non-null  object \n",
            " 11  region         17890 non-null  object \n",
            " 12  locality       17890 non-null  object \n",
            " 13  parking_space  17890 non-null  bool   \n",
            " 14  is_furnished   17890 non-null  object \n",
            " 15  lat            17890 non-null  float64\n",
            " 16  lng            17890 non-null  float64\n",
            "dtypes: bool(1), float64(5), int64(1), object(10)\n",
            "memory usage: 2.3+ MB\n"
          ]
        }
      ],
      "source": [
        "rental_df.info()"
      ]
    },
    {
      "cell_type": "code",
      "execution_count": 107,
      "metadata": {
        "id": "I5_-MDG_pcup"
      },
      "outputs": [],
      "source": [
        "rental_df.to_csv(\"house_rentals.csv\", index=False)"
      ]
    },
    {
      "cell_type": "code",
      "execution_count": 108,
      "metadata": {
        "id": "n3nFuSZXpj0g"
      },
      "outputs": [],
      "source": [
        "!cp house_rentals.csv /content/drive/My\\ Drive/Datasets/"
      ]
    },
    {
      "cell_type": "markdown",
      "metadata": {
        "id": "tyvZhMPB0i2q"
      },
      "source": [
        "## Sale"
      ]
    },
    {
      "cell_type": "code",
      "execution_count": 109,
      "metadata": {
        "colab": {
          "base_uri": "https://localhost:8080/"
        },
        "id": "JKy5iyynBYu3",
        "outputId": "9bdca5f5-5193-4c79-b74e-99470182267f"
      },
      "outputs": [
        {
          "output_type": "stream",
          "name": "stdout",
          "text": [
            "<class 'pandas.core.frame.DataFrame'>\n",
            "RangeIndex: 9629 entries, 0 to 9628\n",
            "Data columns (total 17 columns):\n",
            " #   Column         Non-Null Count  Dtype  \n",
            "---  ------         --------------  -----  \n",
            " 0   url            9629 non-null   object \n",
            " 1   listing_type   9629 non-null   object \n",
            " 2   name           9629 non-null   object \n",
            " 3   price          9629 non-null   int64  \n",
            " 4   category       9629 non-null   object \n",
            " 5   bedrooms       9629 non-null   float64\n",
            " 6   bathrooms      9629 non-null   float64\n",
            " 7   floor_area     9629 non-null   float64\n",
            " 8   location       9629 non-null   object \n",
            " 9   condition      9629 non-null   object \n",
            " 10  amenities      9629 non-null   object \n",
            " 11  region         9629 non-null   object \n",
            " 12  locality       9627 non-null   object \n",
            " 13  parking_space  9629 non-null   bool   \n",
            " 14  is_furnished   9629 non-null   object \n",
            " 15  lat            9629 non-null   float64\n",
            " 16  lng            9629 non-null   float64\n",
            "dtypes: bool(1), float64(5), int64(1), object(10)\n",
            "memory usage: 1.2+ MB\n"
          ]
        }
      ],
      "source": [
        "sale_df.info()"
      ]
    },
    {
      "cell_type": "code",
      "execution_count": 111,
      "metadata": {
        "colab": {
          "base_uri": "https://localhost:8080/",
          "height": 847
        },
        "id": "rh0Y9uhKzA4J",
        "outputId": "51bd88e0-680c-4b29-a37a-8a53779eec2b"
      },
      "outputs": [
        {
          "output_type": "display_data",
          "data": {
            "text/plain": [
              "<Figure size 3000x1500 with 4 Axes>"
            ],
            "image/png": "[encoded data removed]"
          },
          "metadata": {}
        }
      ],
      "source": [
        "l1 = 12\n",
        "l2 = 17\n",
        "plot_price(sale_df, cutoff=100_000_000, l1=l1, l2=l2)"
      ]
    },
    {
      "cell_type": "code",
      "execution_count": 112,
      "metadata": {
        "colab": {
          "base_uri": "https://localhost:8080/"
        },
        "id": "99HdgLHGzBl0",
        "outputId": "da3c26ca-d426-4753-b2e9-639aabe43236"
      },
      "outputs": [
        {
          "output_type": "stream",
          "name": "stdout",
          "text": [
            "Number of listings which are assumed as outliers: 199\n",
            "\n",
            "Outlier range: prices below 162753.79141900392 and above 24154951.7535753\n"
          ]
        }
      ],
      "source": [
        "# inverse of log transformed prices\n",
        "outliers = sale_df[(np.log1p(sale_df['price']) < l1) | (np.log1p(sale_df['price']) > l2)]\n",
        "print(f'Number of listings which are assumed as outliers: {len(outliers)}\\n')\n",
        "print(f'Outlier range: prices below {np.exp(l1) - 1} and above {np.exp(l2) - 1}')"
      ]
    },
    {
      "cell_type": "code",
      "execution_count": 113,
      "metadata": {
        "colab": {
          "base_uri": "https://localhost:8080/",
          "height": 832
        },
        "id": "we7mRL6T044U",
        "outputId": "bb64ccaf-9bb2-4964-b8cd-d59345abf17b"
      },
      "outputs": [
        {
          "output_type": "display_data",
          "data": {
            "text/plain": [
              "<Figure size 1200x900 with 1 Axes>"
            ],
            "image/png": "[encoded data removed]"
          },
          "metadata": {}
        }
      ],
      "source": [
        "# plot price distribution of prices after removing outliers\n",
        "plt.figure(num=1, figsize=(8,6), linewidth=1)\n",
        "\n",
        "sale_df = sale_df.drop(index=outliers.index)\n",
        "sns.distplot(sale_df.price)\n",
        "\n",
        "_= plt.title('Sale Price distribution of Listings')"
      ]
    },
    {
      "cell_type": "code",
      "execution_count": 114,
      "metadata": {
        "colab": {
          "base_uri": "https://localhost:8080/"
        },
        "id": "w9JzWPIl1T3u",
        "outputId": "60761fdf-6700-4f82-f100-e18e5cbc947a"
      },
      "outputs": [
        {
          "output_type": "stream",
          "name": "stdout",
          "text": [
            "<class 'pandas.core.frame.DataFrame'>\n",
            "Index: 9430 entries, 0 to 9628\n",
            "Data columns (total 17 columns):\n",
            " #   Column         Non-Null Count  Dtype  \n",
            "---  ------         --------------  -----  \n",
            " 0   url            9430 non-null   object \n",
            " 1   listing_type   9430 non-null   object \n",
            " 2   name           9430 non-null   object \n",
            " 3   price          9430 non-null   int64  \n",
            " 4   category       9430 non-null   object \n",
            " 5   bedrooms       9430 non-null   float64\n",
            " 6   bathrooms      9430 non-null   float64\n",
            " 7   floor_area     9430 non-null   float64\n",
            " 8   location       9430 non-null   object \n",
            " 9   condition      9430 non-null   object \n",
            " 10  amenities      9430 non-null   object \n",
            " 11  region         9430 non-null   object \n",
            " 12  locality       9428 non-null   object \n",
            " 13  parking_space  9430 non-null   bool   \n",
            " 14  is_furnished   9430 non-null   object \n",
            " 15  lat            9430 non-null   float64\n",
            " 16  lng            9430 non-null   float64\n",
            "dtypes: bool(1), float64(5), int64(1), object(10)\n",
            "memory usage: 1.2+ MB\n"
          ]
        }
      ],
      "source": [
        "sale_df.info()"
      ]
    },
    {
      "cell_type": "code",
      "execution_count": 115,
      "metadata": {
        "id": "t-UR9885zhUE"
      },
      "outputs": [],
      "source": [
        "sale_df.to_csv(\"house_sale.csv\", index=False)"
      ]
    },
    {
      "cell_type": "code",
      "execution_count": 116,
      "metadata": {
        "id": "x7KQM2Pa1GMY"
      },
      "outputs": [],
      "source": [
        "!cp house_sale.csv /content/drive/My\\ Drive/Datasets/"
      ]
    },
    {
      "cell_type": "code",
      "source": [],
      "metadata": {
        "id": "nvlnwilgk18M"
      },
      "execution_count": null,
      "outputs": []
    }
  ],
  "metadata": {
    "colab": {
      "provenance": [],
      "mount_file_id": "1mZr8ElJvbR8N2A6KuCOlsO97cSkA1Kws",
      "authorship_tag": "ABX9TyMXKl80O7Y+9Fr22n+xLwZm",
      "include_colab_link": true
    },
    "kernelspec": {
      "display_name": "Python 3",
      "name": "python3"
    },
    "language_info": {
      "name": "python"
    }
  },
  "nbformat": 4,
  "nbformat_minor": 0
}